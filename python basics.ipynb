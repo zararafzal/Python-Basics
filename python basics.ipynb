{
 "cells": [
  {
   "cell_type": "markdown",
   "id": "98644e56",
   "metadata": {},
   "source": [
    "# Table of contents\n",
    "**1.Introduction**  \n",
    "**2. Data Types**  \n",
    "  2.1 Variables  \n",
    "  2.2 Numbers  \n",
    "  2.3 Strings  \n",
    "  2.4 Lists  \n",
    "  2.5 Dictionaries  \n",
    "  2.6 Tuples  \n",
    "  2.7 Sets  \n",
    "**3. Comparison Operators**  \n",
    "**4. If-Else Statements**  \n",
    "**5. For & While Loop**  \n",
    "**6. Functions**  \n",
    "**7. Lambda Functions**  \n",
    "7.1 Map()  \n",
    "7.2 filter()  \n",
    "**8. File I/O**  \n",
    "**9. Pandas Library Introduction**  \n",
    "**10. Series**  \n",
    "10.1 From ndarray  \n",
    "10.2 From dict  \n",
    "10.3 From Scalar value  \n",
    "10.4 Series is ndarray-like  \n",
    "10.5 Series is dict-like  \n",
    "10.6 Vectorized operations and label alignment with Series  \n",
    "10.7 Name Attribute  \n",
    "**11. Data Frames**  \n",
    "11.1 From dict of Series or dicts  \n",
    "11.2 From dict of ndarrays / lists  \n",
    "11.3 From a list of dicts  \n",
    "11.4 From a dict of tuples  \n",
    "11.5 Alternate Constructor  \n",
    "11.6 Column selection, addition, deletion  \n",
    "11.7 Indexing / Selection  \n",
    "11.8 Data alignment and arithmetic  \n",
    "11.9 Transposing  \n",
    "**12. Viewing Data**\n"
   ]
  },
  {
   "cell_type": "markdown",
   "id": "4a38813b",
   "metadata": {},
   "source": [
    "# 1.Introduction:\n",
    "- Python is gaining popularity as a language of choice for data analytics.  \n",
    "- Its installation is free and open source. It is fantastic online community. It is really simple to learn.    \n",
    "- Data science could adopt it as its standard language.    \n",
    "- It might also spread to the development of web-based analytics tools.  \n",
    "- It is simpler to implement because it is written in an interpreted computer language.  \n",
    "- Compilation is not necessary as immediate execution is possible."
   ]
  },
  {
   "cell_type": "markdown",
   "id": "66c3a6bf",
   "metadata": {},
   "source": [
    "# 2. Data Types:\n",
    "Data types used in python are following  \n",
    "# 2.1.Variables:\n",
    "    In python we donot need to declare variables as in other programming languages. we can  \n",
    "    simply decide the variable after we have assigned the variable as shown below:"
   ]
  },
  {
   "cell_type": "code",
   "execution_count": 2,
   "id": "29d600c2",
   "metadata": {},
   "outputs": [
    {
     "name": "stdout",
     "output_type": "stream",
     "text": [
      "25000\n",
      "15.12\n",
      "Umais\n"
     ]
    }
   ],
   "source": [
    "income= 25000 #income variable declaration of integar type\n",
    "monthly_budget=15.12 # budget declaration of float type\n",
    "name= \"Umais\" #name declaration of string type\n",
    "print(income)#print income \n",
    "print(monthly_budget)#print monthly budget\n",
    "print(name)#print name"
   ]
  },
  {
   "cell_type": "markdown",
   "id": "e5442f41",
   "metadata": {},
   "source": [
    "# 2.2.Numbers:\n",
    "Number data type simply stores numbers in python. These  \n",
    "number can be used simply to perform diffrent arthimatic operations  \n",
    "like addition subtraction etc."
   ]
  },
  {
   "cell_type": "code",
   "execution_count": 3,
   "id": "a3f4f791",
   "metadata": {},
   "outputs": [
    {
     "data": {
      "text/plain": [
       "3.1"
      ]
     },
     "execution_count": 3,
     "metadata": {},
     "output_type": "execute_result"
    }
   ],
   "source": [
    "3.1 # float number\n",
    "\n"
   ]
  },
  {
   "cell_type": "code",
   "execution_count": 4,
   "id": "f4a1a0e4",
   "metadata": {},
   "outputs": [
    {
     "data": {
      "text/plain": [
       "23.758156715596005"
      ]
     },
     "execution_count": 4,
     "metadata": {},
     "output_type": "execute_result"
    }
   ],
   "source": [
    "3.1**2.8 # multiplying two numbers"
   ]
  },
  {
   "cell_type": "code",
   "execution_count": 5,
   "id": "a14a621f",
   "metadata": {},
   "outputs": [
    {
     "data": {
      "text/plain": [
       "57"
      ]
     },
     "execution_count": 5,
     "metadata": {},
     "output_type": "execute_result"
    }
   ],
   "source": [
    "28+29 #adding two numbers"
   ]
  },
  {
   "cell_type": "code",
   "execution_count": 6,
   "id": "e1593ca2",
   "metadata": {},
   "outputs": [
    {
     "data": {
      "text/plain": [
       "8.684782608695652"
      ]
     },
     "execution_count": 6,
     "metadata": {},
     "output_type": "execute_result"
    }
   ],
   "source": [
    "199.75/23 # dividing two numbers"
   ]
  },
  {
   "cell_type": "markdown",
   "id": "76949da5",
   "metadata": {},
   "source": [
    "# 2.3. Strings:\n",
    "In python there is no charachter data types. All single charachter are stored as one length string  \n",
    "in python. To store any qualitative data we need string data type like given below:\n",
    "    "
   ]
  },
  {
   "cell_type": "code",
   "execution_count": 7,
   "id": "05a0334e",
   "metadata": {},
   "outputs": [
    {
     "name": "stdout",
     "output_type": "stream",
     "text": [
      "umais\n"
     ]
    }
   ],
   "source": [
    "name=\"umais\"\n",
    "print(name)"
   ]
  },
  {
   "cell_type": "markdown",
   "id": "11f0e9fa",
   "metadata": {},
   "source": [
    "**Acess values in String:**  \n",
    "We can also access specific string value in python like if we have to access first charachter of  \n",
    "umais string we donont have char in python so we have to access them by using square brackets which will be used to access subtring."
   ]
  },
  {
   "cell_type": "code",
   "execution_count": 8,
   "id": "fce6e66c",
   "metadata": {},
   "outputs": [
    {
     "name": "stdout",
     "output_type": "stream",
     "text": [
      "stringVariable[0]: U\n",
      "stringVariable[1:3]: ma\n",
      "stringVariable[4:5]: s\n",
      "stringVariable[8:10]: gh\n"
     ]
    }
   ],
   "source": [
    "stringVariable = 'Umais Leghari'\n",
    "print(\"stringVariable[0]:\", stringVariable[0])# print charachter on 0 index or first charachter\n",
    "print(\"stringVariable[1:3]:\", stringVariable[1:3])#print charachter on 1,3 index or second or fourth charachter  \n",
    "print(\"stringVariable[4:5]:\", stringVariable[4:5])#print charachter on 4,5 index or fifth or sixth charachter\n",
    "print(\"stringVariable[8:10]:\", stringVariable[8:10])#print charachter on 8,10 index or ninth or eleventh charachter"
   ]
  },
  {
   "cell_type": "markdown",
   "id": "ccfc353f",
   "metadata": {},
   "source": [
    "**Updating String**\n",
    "We can similarly also update a string if we want in python. Simply the new data  \n",
    "will be overwriiten by the old one by using + operator to update data but new value  \n",
    "must consist of same data type."
   ]
  },
  {
   "cell_type": "code",
   "execution_count": 9,
   "id": "689d4c13",
   "metadata": {},
   "outputs": [
    {
     "name": "stdout",
     "output_type": "stream",
     "text": [
      "Updated string:  LeghariAwais\n",
      "Updated string:  Umais Awais\n"
     ]
    }
   ],
   "source": [
    "stringVariable = \"Umais Leghari\"\n",
    "stringVariable = stringVariable[6:] + \"Awais\" # first 6 charachters updated\n",
    "print(\"Updated string: \", stringVariable)\n",
    "stringVariable = \"Umais Leghari\"\n",
    "stringVariable = stringVariable[:6] + \"Awais\" # last 6 charachters updated\n",
    "print(\"Updated string: \", stringVariable)"
   ]
  },
  {
   "cell_type": "markdown",
   "id": "280b5afc",
   "metadata": {},
   "source": [
    "** Deleting string:**\n",
    "    Similarly we can easily delete string just by typing the del keyword  \n",
    "    in python. like shown below"
   ]
  },
  {
   "cell_type": "code",
   "execution_count": 10,
   "id": "18657de9",
   "metadata": {},
   "outputs": [
    {
     "name": "stdout",
     "output_type": "stream",
     "text": [
      "Umais Leghari\n"
     ]
    },
    {
     "ename": "NameError",
     "evalue": "name 'stringVariable' is not defined",
     "output_type": "error",
     "traceback": [
      "\u001b[1;31m---------------------------------------------------------------------------\u001b[0m",
      "\u001b[1;31mNameError\u001b[0m                                 Traceback (most recent call last)",
      "Input \u001b[1;32mIn [10]\u001b[0m, in \u001b[0;36m<cell line: 4>\u001b[1;34m()\u001b[0m\n\u001b[0;32m      2\u001b[0m \u001b[38;5;28mprint\u001b[39m(stringVariable) \u001b[38;5;66;03m#string variable value to be printed\u001b[39;00m\n\u001b[0;32m      3\u001b[0m \u001b[38;5;28;01mdel\u001b[39;00m stringVariable \u001b[38;5;66;03m#delete variable\u001b[39;00m\n\u001b[1;32m----> 4\u001b[0m \u001b[38;5;28mprint\u001b[39m(\u001b[43mstringVariable\u001b[49m)\n",
      "\u001b[1;31mNameError\u001b[0m: name 'stringVariable' is not defined"
     ]
    }
   ],
   "source": [
    "stringVariable = \"Umais Leghari\"\n",
    "print(stringVariable) #string variable value to be printed\n",
    "del stringVariable #delete variable\n",
    "print(stringVariable) # Will show error as the variable has been deleted"
   ]
  },
  {
   "cell_type": "markdown",
   "id": "3de6ca98",
   "metadata": {},
   "source": [
    "**String special operators:**\n",
    "Special operators are used for assistence to the user like\n",
    "  + operator\n",
    "This operatir is used for the purpose of concatination or to combine two or more words like:\n"
   ]
  },
  {
   "cell_type": "code",
   "execution_count": 15,
   "id": "78dc0700",
   "metadata": {},
   "outputs": [
    {
     "name": "stdout",
     "output_type": "stream",
     "text": [
      "UmaisLeghari\n",
      "LeghariAwais\n"
     ]
    }
   ],
   "source": [
    " variable = \"Umais\"\n",
    "print(variable+\"Leghari\") #concation after variable\n",
    " variable = \"Awais\"\n",
    "print(\"Leghari\"+variable) # concatintion before variable\n"
   ]
  },
  {
   "cell_type": "markdown",
   "id": "17399c2e",
   "metadata": {},
   "source": [
    "-  '*'   \n",
    "This is used if we need to show a specific variable for more then one time\n"
   ]
  },
  {
   "cell_type": "code",
   "execution_count": 14,
   "id": "4affa187",
   "metadata": {},
   "outputs": [
    {
     "name": "stdout",
     "output_type": "stream",
     "text": [
      "AwaisAwaisAwaisAwaisAwais\n",
      "umaisumaisumaisumaisumaisumaisumaisumaisumais\n"
     ]
    }
   ],
   "source": [
    " variable = \"Awais\"\n",
    "print(variable*5) # print variable value 5 times\n",
    " variable = \"umais\"\n",
    "print(variable*9) # print variable value 9 times"
   ]
  },
  {
   "cell_type": "markdown",
   "id": "866642d9",
   "metadata": {},
   "source": [
    "-  '[]'   \n",
    "This is used print the character of string at given specific index"
   ]
  },
  {
   "cell_type": "code",
   "execution_count": null,
   "id": "eaff9bd6",
   "metadata": {},
   "outputs": [],
   "source": [
    "variable = \"Umais\"\n",
    "print(variable[0]) #print charachter at 0 index or 1 charachter\n",
    "print(variable[4]) #print charachter at 4 index or 5 charachter\n",
    "print(variable[2]) #print charachter at 2 index or 3 charachter\n"
   ]
  },
  {
   "cell_type": "markdown",
   "id": "a87f6cf6",
   "metadata": {},
   "source": [
    "-  '[:]'  \n",
    "This is used to get a range of characters from string like if we want more then one charachter\n",
    "we use this to return both charachters we want like:"
   ]
  },
  {
   "cell_type": "code",
   "execution_count": 13,
   "id": "9c9c0cc7",
   "metadata": {},
   "outputs": [
    {
     "name": "stdout",
     "output_type": "stream",
     "text": [
      "Umai\n"
     ]
    }
   ],
   "source": [
    "variable = \"Umais\"\n",
    "print(variable[0:4]) # print charachter between 0-4 index or 1 to 4 charachter\n"
   ]
  },
  {
   "cell_type": "markdown",
   "id": "dd2a10e0",
   "metadata": {},
   "source": [
    "-  'in'   \n",
    "It returns true if given character exists in string, otherwise false however  \n",
    "if we use not keyword and that charachter is not present then it will again  \n",
    "return true."
   ]
  },
  {
   "cell_type": "code",
   "execution_count": 12,
   "id": "f1396205",
   "metadata": {},
   "outputs": [
    {
     "name": "stdout",
     "output_type": "stream",
     "text": [
      "True\n",
      "False\n",
      "True\n"
     ]
    }
   ],
   "source": [
    "variable = \"Umais\"\n",
    "print('U' in variable)# true as u is there in string\n",
    "print('Z' in variable)# false as no z present\n",
    "print('X' not in variable)# not keyword used so true"
   ]
  },
  {
   "cell_type": "markdown",
   "id": "6667941c",
   "metadata": {},
   "source": [
    "**String formatting operator**\n",
    "We can also format a given string in python like:"
   ]
  },
  {
   "cell_type": "code",
   "execution_count": 11,
   "id": "72c6e861",
   "metadata": {},
   "outputs": [
    {
     "name": "stdout",
     "output_type": "stream",
     "text": [
      "My name is Umais and age is 21 year!\n"
     ]
    }
   ],
   "source": [
    "print (\"My name is %s and age is %d year!\" % (\"Umais\",21)) # Give proper formatting of text"
   ]
  },
  {
   "cell_type": "markdown",
   "id": "cf270681",
   "metadata": {},
   "source": [
    "# 2.4. lists:\n",
    "Repetition is permitted by list data structures, which means that a single item of data may appear more than once in a list.  \n",
    "Each entry of recurring data is treated as a separate item or entry when there are several entries of that data.  \n",
    "It can be expressed as a list of values separated by commas enclosed in square brackets. A List can hold various types of  \n",
    "data. A list's individual items can be modified (it can be read and write). Like array indices, list indices begin at 0 as well."
   ]
  },
  {
   "cell_type": "code",
   "execution_count": 16,
   "id": "85f1530b",
   "metadata": {},
   "outputs": [
    {
     "name": "stdout",
     "output_type": "stream",
     "text": [
      "['Umais', '2004']\n",
      "['awais', '1976']\n",
      "['Rija', '2009']\n"
     ]
    }
   ],
   "source": [
    "list1 = ['Umais','2004']\n",
    "print(list1)\n",
    "list2 = ['awais','1976']\n",
    "print(list2)\n",
    "list3 = ['Rija','2009']\n",
    "print(list3)\n"
   ]
  },
  {
   "cell_type": "markdown",
   "id": "d7c64a1a",
   "metadata": {},
   "source": [
    "**Accessing values in Lists:**\n",
    "    To access the values in a list, use square brackets.From a list, we can retrieve a particular value or range of values."
   ]
  },
  {
   "cell_type": "code",
   "execution_count": 17,
   "id": "89d444af",
   "metadata": {},
   "outputs": [
    {
     "name": "stdout",
     "output_type": "stream",
     "text": [
      "list1[0]:  Umais\n",
      "list2[1:5]:  ['1976']\n",
      "list3[1]:  2009\n",
      "list4[2]:  1997\n",
      "list5[0:3]:  [1, 2, 3]\n"
     ]
    }
   ],
   "source": [
    "list1 = ['Umais','2004']\n",
    "list2 = ['awais','1976']\n",
    "list3 = ['Rija','2009']\n",
    "list4 = ['physics', 'chemistry', 1997, 2000];\n",
    "list5 = [1, 2, 3, 4, 5, 6, 7 ];\n",
    "print (\"list1[0]: \", list1[0])\n",
    "print (\"list2[1:5]: \", list2[1:5])\n",
    "print (\"list3[1]: \", list3[1])\n",
    "print (\"list4[2]: \", list4[2])\n",
    "print (\"list5[0:3]: \", list5[0:3])"
   ]
  },
  {
   "cell_type": "markdown",
   "id": "a4198052",
   "metadata": {},
   "source": [
    "**Updating Lists**\n",
    "We can update single or mupltiple elements of a list by giving slice on left hand of the assignment operator  \n",
    "It can also be updated using append() function.\n"
   ]
  },
  {
   "cell_type": "code",
   "execution_count": 18,
   "id": "4ac0c15c",
   "metadata": {},
   "outputs": [
    {
     "name": "stdout",
     "output_type": "stream",
     "text": [
      "['Umais', 'doctor', 1997, 2000]\n",
      "['Umais', 'doctor', 1997, 2000, 'doctor']\n",
      "['Umais', 'Awais', 'science', 2000]\n",
      "['Umais', 'Awais', 'science', 2000]\n",
      "['Umais', 'Awais', 1997, 'enginer']\n",
      "['Umais', 'Awais', 1997, 'enginer']\n"
     ]
    }
   ],
   "source": [
    "list1 = ['Umais', 'Awais', 1997, 2000];\n",
    "list1[1] = \"doctor\"\n",
    "print(list1)\n",
    "list1.append('doctor')\n",
    "print(list1)\n",
    "list2 = ['Umais', 'Awais', 1997, 2000];\n",
    "list2[2] = \"science\"\n",
    "print(list2)\n",
    "list1.append('science')\n",
    "print(list2)\n",
    "\n",
    "list3 = ['Umais', 'Awais', 1997, 2000];\n",
    "list3[3] = \"enginer\"\n",
    "print(list3)\n",
    "list1.append('enginer')\n",
    "print(list3)\n",
    "\n"
   ]
  },
  {
   "cell_type": "markdown",
   "id": "2dffd134",
   "metadata": {},
   "source": [
    "**Delete List element**\n",
    "When you know the position or index of the element to be destroyed, you can remove using the del command.  \n",
    "When removing an element but are unsure of its position, you can utilise the remove() function."
   ]
  },
  {
   "cell_type": "code",
   "execution_count": 19,
   "id": "0d850a2c",
   "metadata": {},
   "outputs": [
    {
     "name": "stdout",
     "output_type": "stream",
     "text": [
      "['Umais', 'Awais', 2000]\n",
      "['Awais', 2000]\n",
      "['Awais', 2000]\n",
      "['Awais', 2000]\n"
     ]
    }
   ],
   "source": [
    "list1 = ['Umais', 'Awais', 1997, 2000];\n",
    "del list1[2]\n",
    "print(list1)\n",
    "del list1[0]\n",
    "print (list1)\n",
    "list2 = ['physics', 'chemistry', 1997, 2000];\n",
    "print (list1)\n",
    "list2.remove('chemistry')\n",
    "list3 = ['physics', 'rabail', 1997, 2000];\n",
    "print (list1)\n",
    "list3.remove('rabail')\n",
    "\n"
   ]
  },
  {
   "cell_type": "code",
   "execution_count": 20,
   "id": "b0dbf693",
   "metadata": {},
   "outputs": [
    {
     "ename": "SyntaxError",
     "evalue": "invalid syntax (3514997122.py, line 2)",
     "output_type": "error",
     "traceback": [
      "\u001b[1;36m  Input \u001b[1;32mIn [20]\u001b[1;36m\u001b[0m\n\u001b[1;33m    A dictionary is a general-purpose data structure for storing a group of objects.\u001b[0m\n\u001b[1;37m      ^\u001b[0m\n\u001b[1;31mSyntaxError\u001b[0m\u001b[1;31m:\u001b[0m invalid syntax\n"
     ]
    }
   ],
   "source": [
    "#2.5Dictionaries:\n",
    "A dictionary is a general-purpose data structure for storing a group of objects.  \n",
    "A dictionary has a set of keys and each key has a single associated value.  \n",
    "It is same as array of objects having key and values in PHP.  \n",
    "Each key is seperated by colon (:) from its value.  \n",
    "Each item is seperated with comma (,).  \n",
    "Empty dictionary can be written as {}.  \n",
    "Keys are unique in dictionary but values may not.  \n",
    "The values of the dictionary can be of any data type.  \n",
    "The keys must be of an immutable data type such as strings, numbers, or tuples  \n",
    "**Accessing value in Dictionary:**\n",
    "    We can use the familiar square brackets along with the key to obtain its value. Following is a simple example\n"
   ]
  },
  {
   "cell_type": "code",
   "execution_count": 21,
   "id": "078e48fa",
   "metadata": {},
   "outputs": [
    {
     "name": "stdout",
     "output_type": "stream",
     "text": [
      "umais\n",
      "mahad\n",
      "zarar\n"
     ]
    }
   ],
   "source": [
    "dict = {'Name':\"umais\", 'Depart': \"BCS\", 'Batch': 2020}\n",
    "print (dict['Name'])\n",
    "dict = {'Name':\"mahad\", 'Depart': \"Bse\", 'Batch': 2018}\n",
    "print (dict['Name'])\n",
    "dict = {'Name':\"zarar\", 'Depart': \"Bds\", 'Batch': 2019}\n",
    "print (dict['Name'])"
   ]
  },
  {
   "cell_type": "markdown",
   "id": "3e471deb",
   "metadata": {},
   "source": [
    "**Updating Dictionary**\n",
    "We can update already existing value in dictionary.  \n",
    "We can also add a new entry in dictionary.\n"
   ]
  },
  {
   "cell_type": "code",
   "execution_count": 22,
   "id": "01c4eac9",
   "metadata": {},
   "outputs": [
    {
     "name": "stdout",
     "output_type": "stream",
     "text": [
      "{'Name': 'umais', 'Depart': 'BCS', 'Batch': 2020}\n",
      "{'Name': 'umais', 'Depart': 'BCS', 'Batch': 'SP20'}\n",
      "{'Name': 'umais', 'Depart': 'BCS', 'Batch': 'SP20', 'University': 'UOL'}\n",
      "{'Name': 'Zara', 'Depart': 'BCS', 'Batch': 2020}\n",
      "{'Name': 'Zara', 'Depart': 'BCS', 'Batch': 'fall20'}\n",
      "{'Name': 'Zara', 'Depart': 'BCS', 'Batch': 'fall20', 'University': 'UCP'}\n"
     ]
    }
   ],
   "source": [
    "dict = {'Name':\"umais\", 'Depart': \"BCS\", 'Batch': 2020}\n",
    "print (dict)\n",
    "dict['Batch'] = \"SP20\"\n",
    "print (dict)\n",
    "dict['University'] = \"UOL\"\n",
    "print(dict)\n",
    "\n",
    "dict = {'Name':\"Zara\", 'Depart': \"BCS\", 'Batch': 2020}\n",
    "print (dict)\n",
    "dict['Batch'] = \"fall20\"\n",
    "print (dict)\n",
    "dict['University'] = \"UCP\"\n",
    "print(dict)"
   ]
  },
  {
   "cell_type": "markdown",
   "id": "67dd35ab",
   "metadata": {},
   "source": [
    "**Delete Dictionary Element**\n",
    "We can delete individual element of dicitionary and complete content of dictionary.  \n",
    "del is used for individual element removal and clear() function is used to remove entire dictionary"
   ]
  },
  {
   "cell_type": "code",
   "execution_count": 23,
   "id": "8a9c2981",
   "metadata": {},
   "outputs": [
    {
     "name": "stdout",
     "output_type": "stream",
     "text": [
      "{'Name': 'Umais', 'Depart': 'BCS', 'Batch': 2020}\n",
      "{'Name': 'Umais', 'Depart': 'BCS'}\n",
      "{'Depart': 'BCS'}\n",
      "{}\n"
     ]
    }
   ],
   "source": [
    "dict = {'Name':\"Umais\", 'Depart': \"BCS\", 'Batch': 2020}\n",
    "print (dict)\n",
    "del dict['Batch']\n",
    "print (dict)\n",
    "del dict['Name']\n",
    "print (dict)\n",
    "del dict['Depart']\n",
    "print (dict)"
   ]
  },
  {
   "cell_type": "markdown",
   "id": "05bb3ec0",
   "metadata": {},
   "source": [
    "# 2.6 Tuples\n",
    "Tuples are almost identical to lists, so they contain an ordered collection of elements, except for one property: they are  \n",
    "immutable. We would use tuples if we needed a data structure that, once created, cannot be modified anymore.  \n",
    "It is same as list. The differences between tuples and lists are, the tuples cannot be changed.  \n",
    "Each item is comma (,) seperated.  \n",
    "Empty Tuple is shown as ().  \n",
    "To write a tuple containing a single value you have to include a comma (,) even though there is only one value. For Exampe: tup  = (40,).  \n",
    "It can also have multiple data type values.  \n",
    "Like string indices, tuple indices start at 0, and they can be sliced, concatenated, and so on.  \n",
    "**Accessing values in Tuples**\n",
    "We can use the familiar square brackets along with the index to obtain its value. Following is an example\n"
   ]
  },
  {
   "cell_type": "code",
   "execution_count": 24,
   "id": "7143b8e7",
   "metadata": {},
   "outputs": [
    {
     "name": "stdout",
     "output_type": "stream",
     "text": [
      "('Math', '98', 'C programming', '99')\n",
      "98\n",
      "('98', 'C programming', '99')\n",
      "('physics', '98', 'C++ programming', '99')\n",
      "98\n",
      "('98', 'C++ programming', '99')\n",
      "('Chemistry', '98', 'Python', '99')\n",
      "98\n",
      "('98',)\n"
     ]
    }
   ],
   "source": [
    "tup = ('Math','98', 'C programming', '99')\n",
    "print (tup)\n",
    "print(tup[1])\n",
    "print(tup[1:4])\n",
    "tp = ('physics','98', 'C++ programming', '99')\n",
    "print (tp)\n",
    "print(tp[1])\n",
    "print(tp[1:])\n",
    "p = ('Chemistry','98', 'Python', '99')\n",
    "print (p)\n",
    "print(p[1])\n",
    "print(p[1:2])"
   ]
  },
  {
   "cell_type": "markdown",
   "id": "d0b89527",
   "metadata": {},
   "source": [
    "**Updating Tuples:**\n",
    "    Tuples are immutable means we can't change it. It is read only.  \n",
    "    We are able to take portions of tuples to make a new tuple.\n",
    "\n"
   ]
  },
  {
   "cell_type": "code",
   "execution_count": 25,
   "id": "89c43c94",
   "metadata": {},
   "outputs": [
    {
     "name": "stdout",
     "output_type": "stream",
     "text": [
      "(12, 34.56, 'abc', 'xyz')\n",
      "(12, 34.56, 'abc', 'xyz', 12, 34.56)\n",
      "(12, 34.56, 'abc', 'xyz', 12, 34.56, 'abc', 'xyz')\n"
     ]
    }
   ],
   "source": [
    "tup1 = (12, 34.56);\n",
    "tup2 = ('abc', 'xyz');\n",
    "# Following action is not valid for tuples\n",
    "# tup1[0] = 100;\n",
    "# So let's create a new tuple as follows\n",
    "tup3 = tup1 + tup2;\n",
    "print (tup3);\n",
    "tup0 = (12, 34.56);\n",
    "tup5 = ('abc', 'xyz');\n",
    "# Following action is not valid for tuples\n",
    "# tup1[0] = 100;\n",
    "# So let's create a new tuple as follows\n",
    "tup7 = tup1 + tup2+ tup0;\n",
    "print (tup7);\n",
    "tup8 = tup1 + tup2+ tup0+ tup5;\n",
    "print(tup8)"
   ]
  },
  {
   "cell_type": "markdown",
   "id": "a41f3fe4",
   "metadata": {},
   "source": [
    "**Delete Tuple elements:**\n",
    "    Removing individual element in Tuple is not possible because they can't be updated.  \n",
    "    del statment is used to remove entire Tuple."
   ]
  },
  {
   "cell_type": "code",
   "execution_count": 26,
   "id": "e73f0dcb",
   "metadata": {},
   "outputs": [
    {
     "name": "stdout",
     "output_type": "stream",
     "text": [
      "('physics', 'chemistry', 1997, 2000)\n",
      "After deleting tup : \n"
     ]
    },
    {
     "ename": "NameError",
     "evalue": "name 'tup' is not defined",
     "output_type": "error",
     "traceback": [
      "\u001b[1;31m---------------------------------------------------------------------------\u001b[0m",
      "\u001b[1;31mNameError\u001b[0m                                 Traceback (most recent call last)",
      "Input \u001b[1;32mIn [26]\u001b[0m, in \u001b[0;36m<cell line: 5>\u001b[1;34m()\u001b[0m\n\u001b[0;32m      3\u001b[0m \u001b[38;5;28;01mdel\u001b[39;00m tup;\n\u001b[0;32m      4\u001b[0m \u001b[38;5;28mprint\u001b[39m (\u001b[38;5;124m\"\u001b[39m\u001b[38;5;124mAfter deleting tup : \u001b[39m\u001b[38;5;124m\"\u001b[39m);\n\u001b[1;32m----> 5\u001b[0m \u001b[38;5;28mprint\u001b[39m (\u001b[43mtup\u001b[49m);\n\u001b[0;32m      6\u001b[0m tup \u001b[38;5;241m=\u001b[39m (\u001b[38;5;124m'\u001b[39m\u001b[38;5;124mawais\u001b[39m\u001b[38;5;124m'\u001b[39m, \u001b[38;5;241m2345\u001b[39m, \u001b[38;5;124m\"\u001b[39m\u001b[38;5;124mRabail\u001b[39m\u001b[38;5;124m\"\u001b[39m, \u001b[38;5;241m2000\u001b[39m);\n\u001b[0;32m      7\u001b[0m \u001b[38;5;28mprint\u001b[39m (tup);\n",
      "\u001b[1;31mNameError\u001b[0m: name 'tup' is not defined"
     ]
    }
   ],
   "source": [
    "tup = ('physics', 'chemistry', 1997, 2000);\n",
    "print (tup);\n",
    "del tup;\n",
    "print (\"After deleting tup : \");\n",
    "print (tup);\n",
    "tup = ('awais', 2345, \"Rabail\", 2000);\n",
    "print (tup);\n",
    "del tup;\n",
    "print (\"After deleting tup : \");\n",
    "print (tup);\n"
   ]
  },
  {
   "cell_type": "markdown",
   "id": "ace5919f",
   "metadata": {},
   "source": [
    "# 2.7.Sets:\n",
    "The Set data structure is usually used to test whether elements belong to set of values.  \n",
    "Rather then only containing elements, Sets are more used to perform operations on multiple  \n",
    "values at once with methods such as union , intersect , etc. A set is collection of unordered items.  \n",
    "Every element is unique (No duplicates).  \n",
    "Every element is immutable (can't be changed). However, the set itself is mutable. We can add or remove items from it.  \n",
    "Sets can be used to perform mathematical set operations like union, intersection, symmetric difference etc.  \n",
    "Empty set will be written as {}. Each item in set will be comma (,) seperated. We can make a set from a list using set() function.  \n",
    "Data type can be found using type() function.  \n",
    "add() is used to add single value, update() is used for adding multiple values.  \n",
    "update() function can take tupe, strings, list or other set as argument. In all cases, duplicates will be avoided.  \n",
    "discard() and remove() are used to to delete particular item from set.\n",
    "discard() will not raise an error if item doesn't exists in set.  \n",
    "remove() will raise an error if item doesn't exists in set."
   ]
  },
  {
   "cell_type": "code",
   "execution_count": 27,
   "id": "fab8e4b9",
   "metadata": {},
   "outputs": [
    {
     "name": "stdout",
     "output_type": "stream",
     "text": [
      "<class 'list'>\n",
      "{1, 2, 3, 4, 5}\n",
      "<class 'set'>\n",
      "{1, 2, 3}\n",
      "{1.2, 1, 'C', 2, 3, 4, 5, 'D', 'Hello'}\n"
     ]
    },
    {
     "ename": "KeyError",
     "evalue": "'G'",
     "output_type": "error",
     "traceback": [
      "\u001b[1;31m---------------------------------------------------------------------------\u001b[0m",
      "\u001b[1;31mKeyError\u001b[0m                                  Traceback (most recent call last)",
      "Input \u001b[1;32mIn [27]\u001b[0m, in \u001b[0;36m<cell line: 17>\u001b[1;34m()\u001b[0m\n\u001b[0;32m     15\u001b[0m \u001b[38;5;28mprint\u001b[39m (my_set)\n\u001b[0;32m     16\u001b[0m my_set\u001b[38;5;241m.\u001b[39mdiscard(\u001b[38;5;124m'\u001b[39m\u001b[38;5;124mG\u001b[39m\u001b[38;5;124m'\u001b[39m) \u001b[38;5;66;03m# it will not raise an error\u001b[39;00m\n\u001b[1;32m---> 17\u001b[0m \u001b[43mmy_set\u001b[49m\u001b[38;5;241;43m.\u001b[39;49m\u001b[43mremove\u001b[49m\u001b[43m(\u001b[49m\u001b[38;5;124;43m'\u001b[39;49m\u001b[38;5;124;43mG\u001b[39;49m\u001b[38;5;124;43m'\u001b[39;49m\u001b[43m)\u001b[49m\n",
      "\u001b[1;31mKeyError\u001b[0m: 'G'"
     ]
    }
   ],
   "source": [
    "list1 = [1,2,3,4,5]\n",
    "print (type(list1))\n",
    "my_set = set(list1)\n",
    "print(my_set)\n",
    "print (type(my_set))\n",
    "# set of integers\n",
    "my_set = {1,2,3}\n",
    "print (my_set)\n",
    "# set of mixed data types\n",
    "my_set = {1,\"Hello\", 1.2,'C'}\n",
    "# adding a single value\n",
    "my_set.add('D')\n",
    "#adding multiple values\n",
    "my_set.update(list1)\n",
    "print (my_set)\n",
    "my_set.discard('G') # it will not raise an error\n",
    "my_set.remove('G') # it will raise an error\n",
    "\n",
    "\n"
   ]
  },
  {
   "cell_type": "markdown",
   "id": "8e7688d9",
   "metadata": {},
   "source": [
    "**2.8.Stack:**  \n",
    "A stack is a linear data structure that stores items in a Last-In/First-Out (LIFO) or First-In/Last-Out (FILO) manner. In stack, a new element is added at one end and an element is removed from that end only. The insert and delete operations are often called push and pop.\n",
    "The functions associated with stack are:  \n",
    "empty() – Returns whether the stack is empty – Time Complexity: O(1)  \n",
    "size() – Returns the size of the stack – Time Complexity: O(1)  \n",
    "top() / peek() – Returns a reference to the topmost element of the stack – Time Complexity: O(1)  \n",
    "push(a) – Inserts the element ‘a’ at the top of the stack – Time Complexity: O(1)  \n",
    "pop() – Deletes the topmost element of the stack – Time Complexity: O(1)\n"
   ]
  },
  {
   "cell_type": "code",
   "execution_count": 28,
   "id": "8b2c292d",
   "metadata": {},
   "outputs": [
    {
     "name": "stdout",
     "output_type": "stream",
     "text": [
      "Initial stack\n",
      "['a', 'b', 'c']\n",
      "\n",
      "Elements popped from stack:\n",
      "c\n",
      "b\n",
      "a\n",
      "\n",
      "Stack after elements are popped:\n",
      "[]\n"
     ]
    }
   ],
   "source": [
    "stack = []\n",
    " \n",
    "stack.append('a')\n",
    "stack.append('b')\n",
    "stack.append('c')\n",
    " \n",
    "print('Initial stack')\n",
    "print(stack)\n",
    " \n",
    "# pop() function to pop\n",
    "# element from stack in\n",
    "# LIFO order\n",
    "print('\\nElements popped from stack:')\n",
    "print(stack.pop())\n",
    "print(stack.pop())\n",
    "print(stack.pop())\n",
    " \n",
    "print('\\nStack after elements are popped:')\n",
    "print(stack)"
   ]
  },
  {
   "cell_type": "markdown",
   "id": "cfdcdd75",
   "metadata": {},
   "source": [
    "** 3. Comparison Operators:**\n",
    "These are used to compare values (string or numbers) and return true/false according to situation."
   ]
  },
  {
   "cell_type": "code",
   "execution_count": 29,
   "id": "79285fd4",
   "metadata": {},
   "outputs": [
    {
     "data": {
      "text/plain": [
       "True"
      ]
     },
     "execution_count": 29,
     "metadata": {},
     "output_type": "execute_result"
    }
   ],
   "source": [
    "1<5"
   ]
  },
  {
   "cell_type": "code",
   "execution_count": 30,
   "id": "3021f514",
   "metadata": {},
   "outputs": [
    {
     "data": {
      "text/plain": [
       "True"
      ]
     },
     "execution_count": 30,
     "metadata": {},
     "output_type": "execute_result"
    }
   ],
   "source": [
    "15 <= 23"
   ]
  },
  {
   "cell_type": "code",
   "execution_count": 31,
   "id": "2ffddc93",
   "metadata": {},
   "outputs": [
    {
     "ename": "SyntaxError",
     "evalue": "cannot assign to literal (444889988.py, line 1)",
     "output_type": "error",
     "traceback": [
      "\u001b[1;36m  Input \u001b[1;32mIn [31]\u001b[1;36m\u001b[0m\n\u001b[1;33m    'Umais'='Umais'\u001b[0m\n\u001b[1;37m    ^\u001b[0m\n\u001b[1;31mSyntaxError\u001b[0m\u001b[1;31m:\u001b[0m cannot assign to literal\n"
     ]
    }
   ],
   "source": [
    "'Umais'='Umais'"
   ]
  },
  {
   "cell_type": "code",
   "execution_count": 32,
   "id": "cb98f710",
   "metadata": {},
   "outputs": [
    {
     "data": {
      "text/plain": [
       "True"
      ]
     },
     "execution_count": 32,
     "metadata": {},
     "output_type": "execute_result"
    }
   ],
   "source": [
    "(1==1) or (5 > 2)\n"
   ]
  },
  {
   "cell_type": "markdown",
   "id": "213ddb05",
   "metadata": {},
   "source": [
    "# 4:If-Else Statements:\n",
    "f-Else statments are used to execute a block of code depending on conditions. If block if condition is true otherwise else  \n",
    "block. See following\n"
   ]
  },
  {
   "cell_type": "code",
   "execution_count": 33,
   "id": "9bbda6f8",
   "metadata": {},
   "outputs": [
    {
     "name": "stdout",
     "output_type": "stream",
     "text": [
      "Even\n"
     ]
    }
   ],
   "source": [
    "if 25 % 2:\n",
    " print('Even')\n",
    "else:\n",
    " print('Odd')\n"
   ]
  },
  {
   "cell_type": "code",
   "execution_count": 34,
   "id": "46fb97db",
   "metadata": {},
   "outputs": [
    {
     "name": "stdout",
     "output_type": "stream",
     "text": [
      "Odd\n"
     ]
    }
   ],
   "source": [
    "if 24 % 2:\n",
    " print('Even')\n",
    "else:\n",
    " print('Odd')\n"
   ]
  },
  {
   "cell_type": "markdown",
   "id": "c937dc03",
   "metadata": {},
   "source": [
    "# 5: For and While Loop:\n",
    "Python has for and while loop for iteration, used when we want to perform a specific  \n",
    "task repeatedly.\n"
   ]
  },
  {
   "cell_type": "code",
   "execution_count": 35,
   "id": "4437f34d",
   "metadata": {},
   "outputs": [
    {
     "name": "stdout",
     "output_type": "stream",
     "text": [
      "120\n"
     ]
    }
   ],
   "source": [
    "fact = 1\n",
    "N = 5\n",
    "for i in range (1,N+1):\n",
    " fact*=i\n",
    "\n",
    "print (fact)\n"
   ]
  },
  {
   "cell_type": "code",
   "execution_count": 36,
   "id": "4415d0b2",
   "metadata": {},
   "outputs": [
    {
     "name": "stdout",
     "output_type": "stream",
     "text": [
      "1\n",
      "2\n",
      "3\n",
      "4\n",
      "5\n",
      "6\n",
      "7\n",
      "8\n",
      "9\n",
      "10\n"
     ]
    }
   ],
   "source": [
    "a = 0\n",
    "while a < 10:\n",
    " a = a+1\n",
    " print(a)\n"
   ]
  },
  {
   "cell_type": "code",
   "execution_count": 37,
   "id": "60396a0d",
   "metadata": {},
   "outputs": [
    {
     "name": "stdout",
     "output_type": "stream",
     "text": [
      "960\n"
     ]
    }
   ],
   "source": [
    "multi = 8\n",
    "N = 5\n",
    "for i in range (1,N+1):\n",
    " multi*=i\n",
    "\n",
    "print (multi)"
   ]
  },
  {
   "cell_type": "markdown",
   "id": "8546bc29",
   "metadata": {},
   "source": [
    "# 6: Functions:\n",
    "It is a block of organized and reusable code.  \n",
    "It is used to perform a single, related action.  \n",
    "It povides high modularity for your application.  \n",
    "It has a hight degree of code reusing.  \n",
    "The syntax is:\n",
    "def functionname( parameters ):\n",
    "\"function_docstring\"\n",
    "function_suite\n",
    "return [expression]"
   ]
  },
  {
   "cell_type": "code",
   "execution_count": 38,
   "id": "a60629d8",
   "metadata": {},
   "outputs": [
    {
     "name": "stdout",
     "output_type": "stream",
     "text": [
      "I'm first call to user defined function!\n"
     ]
    }
   ],
   "source": [
    "def printme( str ):\n",
    "#This prints a passed string into this function\n",
    " print (str)\n",
    " return;\n",
    "# Now you can call printme function\n",
    "printme(\"I'm first call to user defined function!\")"
   ]
  },
  {
   "cell_type": "code",
   "execution_count": 39,
   "id": "6b85df69",
   "metadata": {},
   "outputs": [
    {
     "name": "stdout",
     "output_type": "stream",
     "text": [
      "178321\n"
     ]
    }
   ],
   "source": [
    "def printme( int ):\n",
    "#This prints a passed string into this function\n",
    " print (int)\n",
    " return;\n",
    "# Now you can call printme function\n",
    "printme(178321)"
   ]
  },
  {
   "cell_type": "markdown",
   "id": "167c2ed2",
   "metadata": {},
   "source": [
    "# 7 Lambda Functions:\n",
    "The creation of anonymous functions at runtime, using a construct called \"lambda\".  \n",
    "Lambda function doesn't include return statement, it always contains an expression which is returned.  \n",
    "This piece of code shows the difference between a normal function definition (\"f\") and a lambda function (\"g\"):\n"
   ]
  },
  {
   "cell_type": "code",
   "execution_count": 40,
   "id": "c51f38ed",
   "metadata": {},
   "outputs": [
    {
     "name": "stdout",
     "output_type": "stream",
     "text": [
      "64\n"
     ]
    }
   ],
   "source": [
    "def f (x):\n",
    " return x**2 # simple function\n",
    "print (f(8))\n"
   ]
  },
  {
   "cell_type": "code",
   "execution_count": 41,
   "id": "6eb9ca12",
   "metadata": {},
   "outputs": [
    {
     "data": {
      "text/plain": [
       "64"
      ]
     },
     "execution_count": 41,
     "metadata": {},
     "output_type": "execute_result"
    }
   ],
   "source": [
    "#Lambda Function\n",
    "#lambda expressions\n",
    "times8 = lambda var:var*8\n",
    "times8(8)\n",
    "#lambda expressions: another way to write a function in line"
   ]
  },
  {
   "cell_type": "code",
   "execution_count": 42,
   "id": "ba80e630",
   "metadata": {},
   "outputs": [
    {
     "name": "stdout",
     "output_type": "stream",
     "text": [
      "81\n"
     ]
    }
   ],
   "source": [
    "def f (x):\n",
    " return x**2 # simple function\n",
    "print (f(9))"
   ]
  },
  {
   "cell_type": "code",
   "execution_count": 43,
   "id": "776e3ae7",
   "metadata": {},
   "outputs": [
    {
     "data": {
      "text/plain": [
       "81"
      ]
     },
     "execution_count": 43,
     "metadata": {},
     "output_type": "execute_result"
    }
   ],
   "source": [
    "#Lambda Function\n",
    "#lambda expressions\n",
    "times9 = lambda var:var*9\n",
    "times9(9)\n",
    "#lambda expressions: another way to write a function in line"
   ]
  },
  {
   "cell_type": "markdown",
   "id": "b092b1c9",
   "metadata": {},
   "source": [
    "**7.1 Map():**\n",
    "Map() function is used with two arguments. Just like: r = map(func, seq)  \n",
    "The first argument func is the name of a function and the second a sequence (e.g. a list).    \n",
    "seq. map() applies the function func to all the elements of the sequence seq. It returns a new list with the elements changed by func."
   ]
  },
  {
   "cell_type": "code",
   "execution_count": 44,
   "id": "ac4c4da0",
   "metadata": {},
   "outputs": [
    {
     "name": "stdout",
     "output_type": "stream",
     "text": [
      "['My', 'name', 'is', 'Umais', 'Leghari']\n",
      "['It', 'is', 'raining', 'cats', 'and', 'dogs']\n"
     ]
    },
    {
     "data": {
      "text/plain": [
       "[2, 2, 7, 4, 3, 4]"
      ]
     },
     "execution_count": 44,
     "metadata": {},
     "output_type": "execute_result"
    }
   ],
   "source": [
    "Intro = 'My name is Umais Leghari'\n",
    "words = Intro.split()\n",
    "print (words)\n",
    "\n",
    "sentence = 'It is raining cats and dogs'\n",
    "words = sentence.split()\n",
    "print (words)\n",
    "lengths = map(lambda word: len(word), words)\n",
    "list(lengths)\n"
   ]
  },
  {
   "cell_type": "markdown",
   "id": "bbe9d5aa",
   "metadata": {},
   "source": [
    "**7.2.Filter():**\n",
    "    The function filter(function, list) offers an elegant way to filter out all the elements of a list.  \n",
    "    The function filter(f,l) needs a function f as its first argument. f returns a Boolean value, i.e.  \n",
    "    either True or False.This function will be applied to every element of the list l.Only if f returns  \n",
    "    True will the element of the list be included in the result list.\n"
   ]
  },
  {
   "cell_type": "code",
   "execution_count": 45,
   "id": "0b06ebe5",
   "metadata": {},
   "outputs": [
    {
     "data": {
      "text/plain": [
       "[1, 1, 3, 5, 13, 21, 55]"
      ]
     },
     "execution_count": 45,
     "metadata": {},
     "output_type": "execute_result"
    }
   ],
   "source": [
    "fib = [0,1,1,2,3,5,8,13,21,34,55]\n",
    "result1 = filter(lambda x: x % 2, fib)\n",
    "list(result1)"
   ]
  },
  {
   "cell_type": "code",
   "execution_count": 46,
   "id": "9f6063d1",
   "metadata": {},
   "outputs": [
    {
     "data": {
      "text/plain": [
       "[0, 2, 8, 34]"
      ]
     },
     "execution_count": 46,
     "metadata": {},
     "output_type": "execute_result"
    }
   ],
   "source": [
    "fib = [0,1,1,2,3,5,8,13,21,34,55]\n",
    "result2 = filter(lambda x: x % 2 == 0, fib)\n",
    "list (result2)\n"
   ]
  },
  {
   "cell_type": "markdown",
   "id": "e0f88567",
   "metadata": {},
   "source": [
    "# 8.File I/O:\n",
    "**Reading input from Keyboard:**\n",
    "For reading input from keyboard, raw_input() method is used.  \n",
    "It reads only one line from standard input and returns it as a string.\n",
    "\n"
   ]
  },
  {
   "cell_type": "code",
   "execution_count": 47,
   "id": "001896c4",
   "metadata": {},
   "outputs": [
    {
     "name": "stdout",
     "output_type": "stream",
     "text": [
      "Enter your name: Umais\n",
      "Umais\n"
     ]
    }
   ],
   "source": [
    "from six.moves import input\n",
    "string = input(\"Enter your name: \");\n",
    "print(string)"
   ]
  },
  {
   "cell_type": "markdown",
   "id": "ab1f2820",
   "metadata": {},
   "source": [
    "**I/O from or to Text File:**\n",
    "In this scenario, we'll read and write to a text file.  \n",
    "r opens a file in read only mode.  \n",
    "r+ opens a file read and write mode.  \n",
    "w opens a file in write mode only.  \n",
    "a opens a file in append mode  \n",
    "a+ opens a file in append and read mode.\n"
   ]
  },
  {
   "cell_type": "code",
   "execution_count": null,
   "id": "66b93867",
   "metadata": {},
   "outputs": [],
   "source": [
    "# Open a file to read\n",
    "fileOpen = open(\"file.txt\", \"r+\")\n",
    "str = fileOpen.read(); #to read specific content from start you can use read(12). It will read 12 characters\n",
    "from the start of file\n",
    "print (str)\n",
    "# Close opend file\n",
    "fileOpen.close()\n"
   ]
  },
  {
   "cell_type": "markdown",
   "id": "6616b4fa",
   "metadata": {},
   "source": [
    "Name: Umais Leghari  \n",
    "Department: BSSe\n"
   ]
  },
  {
   "cell_type": "code",
   "execution_count": null,
   "id": "2b172672",
   "metadata": {},
   "outputs": [],
   "source": [
    "# Open a file to append\n",
    "fileOpen = open(\"file.txt\", \"a+\")\n",
    "fileOpen.write(\" Information Technology Lahore\");\n",
    "fileOpen.close()\n",
    "# Open a file to read\n",
    "fileOpen = open(\"file.txt\", \"r+\")\n",
    "string = fileOpen.read(); #to read specific content from start you can use read(12). It will read 12 characte\n",
    "rs from the start of file\n",
    "print (string)\n",
    "# Close opend file\n",
    "fileOpen.close()\n"
   ]
  },
  {
   "cell_type": "markdown",
   "id": "490f3b50",
   "metadata": {},
   "source": [
    "Name: Umais Leghari  \n",
    "Department: BSCS Information Technology Lahore"
   ]
  },
  {
   "cell_type": "markdown",
   "id": "99671352",
   "metadata": {},
   "source": [
    "**File Position:**\n",
    "-  tell() method tells the currenct position within the file.  \n",
    "-  seek() method changes the current file location."
   ]
  },
  {
   "cell_type": "code",
   "execution_count": null,
   "id": "b02d0f42",
   "metadata": {},
   "outputs": [],
   "source": [
    "# Open a file\n",
    "fo = open(\"file.txt\", \"r+\")\n",
    "str = fo.read(10);\n",
    "print (\"Read String is : \\n\", str)\n",
    "# Check current position\n",
    "position = fo.tell();\n",
    "print (\"Current file position : \\n\", position)\n",
    "# Reposition pointer at the beginning once again\n",
    "position = fo.seek(0, 0);\n",
    "str = fo.read(10);\n",
    "print (\"Again read String is : \\n\", str)\n",
    "# Close opend file\n",
    "fo.close()\n"
   ]
  },
  {
   "cell_type": "markdown",
   "id": "ca7ddb2f",
   "metadata": {},
   "source": [
    "Read String is :\n",
    "Name: Umais\n",
    "Current file position :\n",
    "10\n",
    "Again read String is :\n",
    "Name: Umais"
   ]
  },
  {
   "cell_type": "code",
   "execution_count": null,
   "id": "4e1717c6",
   "metadata": {},
   "outputs": [],
   "source": [
    "import os\n",
    "# rename a file\n",
    "os.rename(\"file.txt\", \"newfile.txt\")"
   ]
  },
  {
   "cell_type": "code",
   "execution_count": null,
   "id": "877fa7f6",
   "metadata": {},
   "outputs": [],
   "source": [
    ": #remove file\n",
    "os.remove(\"newfile.txt\")\n"
   ]
  },
  {
   "cell_type": "markdown",
   "id": "56531baa",
   "metadata": {},
   "source": [
    "# 9: Pandas Intro:\n",
    "Pandas is an open source library built on top of NumPy  \n",
    "It allows for fast analysis and data cleaning and preparation  \n",
    "It excels in proformance and productivity  \n",
    "It also has built-in visualization features  \n",
    "It can work with data from a wide variety of sources"
   ]
  },
  {
   "cell_type": "markdown",
   "id": "52772f9e",
   "metadata": {},
   "source": [
    "# 10. Series:\n",
    "A series is very similar to NumPy array.Series is 1-D array labeled array capable of holding any type of data.  \n",
    "The difference between the NumPy array from a Series, is that a Series can have axis labels, meaning it can be  \n",
    "indexed by a label, instead of just a number location. The axis labels are collectively referred to as the index.  \n",
    "Following function is used to create a series:s= pd.Series(data,index = index) In above function, data can be  \n",
    "many different things:  \n",
    "-  A python dict\n",
    "-  An ndarray\n",
    "-  A scalar value (For exmple: 5)  \n",
    "The passed index is a list of axis labels. So, this seperates into a few cases depending on what data is:\n",
    "**10.1 From ndarray**\n",
    "If data is an ndarray, index must be the same length as data.\n",
    "If no index is passed, one will be created having values [0, ..., len(data) - 1]."
   ]
  },
  {
   "cell_type": "code",
   "execution_count": 4,
   "id": "208daf01",
   "metadata": {},
   "outputs": [
    {
     "data": {
      "text/plain": [
       "a   -0.791951\n",
       "b   -1.815911\n",
       "c   -2.089877\n",
       "d    0.507760\n",
       "e    0.932812\n",
       "dtype: float64"
      ]
     },
     "execution_count": 4,
     "metadata": {},
     "output_type": "execute_result"
    }
   ],
   "source": [
    "import pandas as pd\n",
    "import numpy as np\n",
    "import matplotlib.pyplot as plt\n",
    "\"\"\"following a fucntion is called from panas to create a series.\n",
    " data would be 5 random values and indexes are assigned a-e\"\"\"\n",
    "s = pd.Series(np.random.randn(5), index=['a', 'b', 'c', 'd', 'e'])\n",
    "s"
   ]
  },
  {
   "cell_type": "code",
   "execution_count": 5,
   "id": "debb1d2f",
   "metadata": {},
   "outputs": [
    {
     "data": {
      "text/plain": [
       "Index(['a', 'b', 'c', 'd', 'e'], dtype='object')"
      ]
     },
     "execution_count": 5,
     "metadata": {},
     "output_type": "execute_result"
    }
   ],
   "source": [
    " \"\"\"Following function will print the index and its datatype\"\"\"\n",
    "s.index\n"
   ]
  },
  {
   "cell_type": "code",
   "execution_count": 6,
   "id": "4841058a",
   "metadata": {},
   "outputs": [
    {
     "data": {
      "text/plain": [
       "0   -1.766857\n",
       "1   -1.536538\n",
       "2   -0.474019\n",
       "3   -1.271052\n",
       "4   -0.989934\n",
       "dtype: float64"
      ]
     },
     "execution_count": 6,
     "metadata": {},
     "output_type": "execute_result"
    }
   ],
   "source": [
    " \"\"\"If we don't assign the index then it will of length having values [0......len(data-1)]\"\"\"\n",
    "pd.Series(np.random.randn(5))\n"
   ]
  },
  {
   "cell_type": "markdown",
   "id": "d049502a",
   "metadata": {},
   "source": [
    "**10.2 From dict**\n",
    "-  If data is a dict, if index is passed the values in data corresponding to the labels in the  \n",
    "index will be pulled out.  \n",
    "-  If index is not passed then it will be constructed from the sorted keys  \n",
    "of the dict, if possible.\n"
   ]
  },
  {
   "cell_type": "code",
   "execution_count": 7,
   "id": "5f10acd1",
   "metadata": {},
   "outputs": [
    {
     "data": {
      "text/plain": [
       "a    0.0\n",
       "b    1.0\n",
       "c    2.0\n",
       "dtype: float64"
      ]
     },
     "execution_count": 7,
     "metadata": {},
     "output_type": "execute_result"
    }
   ],
   "source": [
    "\"\"\" In following example, indexes are not given to it is constructed from the sorted keys of the dict\"\"\"\n",
    "d = {'a' : 0., 'b' : 1., 'c' : 2.} # a python dict\n",
    "pd.Series(d)"
   ]
  },
  {
   "cell_type": "code",
   "execution_count": 9,
   "id": "0c3c8a16",
   "metadata": {},
   "outputs": [
    {
     "data": {
      "text/plain": [
       "b    1.0\n",
       "c    2.0\n",
       "d    NaN\n",
       "a    0.0\n",
       "dtype: float64"
      ]
     },
     "execution_count": 9,
     "metadata": {},
     "output_type": "execute_result"
    }
   ],
   "source": [
    "\"\"\" In following example, index are given, so the values in data corresponding in the index will be pulled ou\n",
    "t\"\"\"\n",
    "pd.Series(d, index=['b', 'c', 'd', 'a'])\n"
   ]
  },
  {
   "cell_type": "markdown",
   "id": "6a20554c",
   "metadata": {},
   "source": [
    "**10.3 From a scalar value:**\n",
    "- If data is a scalar value, an index must be provided. The value will be repeated to match the length of index"
   ]
  },
  {
   "cell_type": "code",
   "execution_count": 10,
   "id": "4091718e",
   "metadata": {},
   "outputs": [
    {
     "data": {
      "text/plain": [
       "a    5.0\n",
       "b    5.0\n",
       "c    5.0\n",
       "d    5.0\n",
       "e    5.0\n",
       "dtype: float64"
      ]
     },
     "execution_count": 10,
     "metadata": {},
     "output_type": "execute_result"
    }
   ],
   "source": [
    "pd.Series(5., index=['a', 'b', 'c', 'd', 'e'])"
   ]
  },
  {
   "cell_type": "markdown",
   "id": "5857208a",
   "metadata": {},
   "source": [
    "**10.4 Series is ndarray-like:**\n",
    "-  It acts very similarly to a ndarray.\n",
    "-  It is a valid argument to most NumPy functions. However, things like slicing also slice the index.\n"
   ]
  },
  {
   "cell_type": "code",
   "execution_count": 11,
   "id": "b172476c",
   "metadata": {},
   "outputs": [
    {
     "data": {
      "text/plain": [
       "-0.7919509686840663"
      ]
     },
     "execution_count": 11,
     "metadata": {},
     "output_type": "execute_result"
    }
   ],
   "source": [
    "#access single value\n",
    "s[0]\n"
   ]
  },
  {
   "cell_type": "code",
   "execution_count": 12,
   "id": "3773ecb4",
   "metadata": {},
   "outputs": [
    {
     "data": {
      "text/plain": [
       "a   -0.791951\n",
       "b   -1.815911\n",
       "c   -2.089877\n",
       "d    0.507760\n",
       "e    0.932812\n",
       "dtype: float64"
      ]
     },
     "execution_count": 12,
     "metadata": {},
     "output_type": "execute_result"
    }
   ],
   "source": [
    "#access range of values\n",
    "s[:5]\n"
   ]
  },
  {
   "cell_type": "code",
   "execution_count": 13,
   "id": "053b7e07",
   "metadata": {},
   "outputs": [
    {
     "data": {
      "text/plain": [
       "d    0.507760\n",
       "e    0.932812\n",
       "dtype: float64"
      ]
     },
     "execution_count": 13,
     "metadata": {},
     "output_type": "execute_result"
    }
   ],
   "source": [
    "s[s > s.median()]\n"
   ]
  },
  {
   "cell_type": "code",
   "execution_count": 14,
   "id": "0ac822e5",
   "metadata": {},
   "outputs": [
    {
     "data": {
      "text/plain": [
       "e    0.932812\n",
       "d    0.507760\n",
       "b   -1.815911\n",
       "dtype: float64"
      ]
     },
     "execution_count": 14,
     "metadata": {},
     "output_type": "execute_result"
    }
   ],
   "source": [
    "s[[4, 3, 1]]\n"
   ]
  },
  {
   "cell_type": "code",
   "execution_count": 15,
   "id": "e32e602c",
   "metadata": {},
   "outputs": [
    {
     "data": {
      "text/plain": [
       "a    0.452960\n",
       "b    0.162690\n",
       "c    0.123702\n",
       "d    1.661564\n",
       "e    2.541645\n",
       "dtype: float64"
      ]
     },
     "execution_count": 15,
     "metadata": {},
     "output_type": "execute_result"
    }
   ],
   "source": [
    "np.exp(s)"
   ]
  },
  {
   "cell_type": "code",
   "execution_count": 16,
   "id": "35e7c67c",
   "metadata": {},
   "outputs": [
    {
     "data": {
      "text/plain": [
       "-0.7919509686840663"
      ]
     },
     "execution_count": 16,
     "metadata": {},
     "output_type": "execute_result"
    }
   ],
   "source": [
    "s['a']\n"
   ]
  },
  {
   "cell_type": "code",
   "execution_count": 17,
   "id": "8cb3884b",
   "metadata": {},
   "outputs": [
    {
     "data": {
      "text/plain": [
       "a    -0.791951\n",
       "b    -1.815911\n",
       "c    -2.089877\n",
       "d     0.507760\n",
       "e    12.000000\n",
       "dtype: float64"
      ]
     },
     "execution_count": 17,
     "metadata": {},
     "output_type": "execute_result"
    }
   ],
   "source": [
    "s['e'] = 12.\n",
    "s # before updating e = 1.399281 but after updating e = 12.000000\n"
   ]
  },
  {
   "cell_type": "code",
   "execution_count": 18,
   "id": "36a24431",
   "metadata": {},
   "outputs": [
    {
     "data": {
      "text/plain": [
       "True"
      ]
     },
     "execution_count": 18,
     "metadata": {},
     "output_type": "execute_result"
    }
   ],
   "source": [
    "'e' in s"
   ]
  },
  {
   "cell_type": "code",
   "execution_count": 19,
   "id": "4bc8f0e7",
   "metadata": {},
   "outputs": [
    {
     "ename": "KeyError",
     "evalue": "'f'",
     "output_type": "error",
     "traceback": [
      "\u001b[1;31m---------------------------------------------------------------------------\u001b[0m",
      "\u001b[1;31mKeyError\u001b[0m                                  Traceback (most recent call last)",
      "File \u001b[1;32m~\\anaconda3\\lib\\site-packages\\pandas\\core\\indexes\\base.py:3621\u001b[0m, in \u001b[0;36mIndex.get_loc\u001b[1;34m(self, key, method, tolerance)\u001b[0m\n\u001b[0;32m   3620\u001b[0m \u001b[38;5;28;01mtry\u001b[39;00m:\n\u001b[1;32m-> 3621\u001b[0m     \u001b[38;5;28;01mreturn\u001b[39;00m \u001b[38;5;28;43mself\u001b[39;49m\u001b[38;5;241;43m.\u001b[39;49m\u001b[43m_engine\u001b[49m\u001b[38;5;241;43m.\u001b[39;49m\u001b[43mget_loc\u001b[49m\u001b[43m(\u001b[49m\u001b[43mcasted_key\u001b[49m\u001b[43m)\u001b[49m\n\u001b[0;32m   3622\u001b[0m \u001b[38;5;28;01mexcept\u001b[39;00m \u001b[38;5;167;01mKeyError\u001b[39;00m \u001b[38;5;28;01mas\u001b[39;00m err:\n",
      "File \u001b[1;32m~\\anaconda3\\lib\\site-packages\\pandas\\_libs\\index.pyx:136\u001b[0m, in \u001b[0;36mpandas._libs.index.IndexEngine.get_loc\u001b[1;34m()\u001b[0m\n",
      "File \u001b[1;32m~\\anaconda3\\lib\\site-packages\\pandas\\_libs\\index.pyx:163\u001b[0m, in \u001b[0;36mpandas._libs.index.IndexEngine.get_loc\u001b[1;34m()\u001b[0m\n",
      "File \u001b[1;32mpandas\\_libs\\hashtable_class_helper.pxi:5198\u001b[0m, in \u001b[0;36mpandas._libs.hashtable.PyObjectHashTable.get_item\u001b[1;34m()\u001b[0m\n",
      "File \u001b[1;32mpandas\\_libs\\hashtable_class_helper.pxi:5206\u001b[0m, in \u001b[0;36mpandas._libs.hashtable.PyObjectHashTable.get_item\u001b[1;34m()\u001b[0m\n",
      "\u001b[1;31mKeyError\u001b[0m: 'f'",
      "\nThe above exception was the direct cause of the following exception:\n",
      "\u001b[1;31mKeyError\u001b[0m                                  Traceback (most recent call last)",
      "Input \u001b[1;32mIn [19]\u001b[0m, in \u001b[0;36m<cell line: 1>\u001b[1;34m()\u001b[0m\n\u001b[1;32m----> 1\u001b[0m \u001b[43ms\u001b[49m\u001b[43m[\u001b[49m\u001b[38;5;124;43m'\u001b[39;49m\u001b[38;5;124;43mf\u001b[39;49m\u001b[38;5;124;43m'\u001b[39;49m\u001b[43m]\u001b[49m\n",
      "File \u001b[1;32m~\\anaconda3\\lib\\site-packages\\pandas\\core\\series.py:958\u001b[0m, in \u001b[0;36mSeries.__getitem__\u001b[1;34m(self, key)\u001b[0m\n\u001b[0;32m    955\u001b[0m     \u001b[38;5;28;01mreturn\u001b[39;00m \u001b[38;5;28mself\u001b[39m\u001b[38;5;241m.\u001b[39m_values[key]\n\u001b[0;32m    957\u001b[0m \u001b[38;5;28;01melif\u001b[39;00m key_is_scalar:\n\u001b[1;32m--> 958\u001b[0m     \u001b[38;5;28;01mreturn\u001b[39;00m \u001b[38;5;28;43mself\u001b[39;49m\u001b[38;5;241;43m.\u001b[39;49m\u001b[43m_get_value\u001b[49m\u001b[43m(\u001b[49m\u001b[43mkey\u001b[49m\u001b[43m)\u001b[49m\n\u001b[0;32m    960\u001b[0m \u001b[38;5;28;01mif\u001b[39;00m is_hashable(key):\n\u001b[0;32m    961\u001b[0m     \u001b[38;5;66;03m# Otherwise index.get_value will raise InvalidIndexError\u001b[39;00m\n\u001b[0;32m    962\u001b[0m     \u001b[38;5;28;01mtry\u001b[39;00m:\n\u001b[0;32m    963\u001b[0m         \u001b[38;5;66;03m# For labels that don't resolve as scalars like tuples and frozensets\u001b[39;00m\n",
      "File \u001b[1;32m~\\anaconda3\\lib\\site-packages\\pandas\\core\\series.py:1069\u001b[0m, in \u001b[0;36mSeries._get_value\u001b[1;34m(self, label, takeable)\u001b[0m\n\u001b[0;32m   1066\u001b[0m     \u001b[38;5;28;01mreturn\u001b[39;00m \u001b[38;5;28mself\u001b[39m\u001b[38;5;241m.\u001b[39m_values[label]\n\u001b[0;32m   1068\u001b[0m \u001b[38;5;66;03m# Similar to Index.get_value, but we do not fall back to positional\u001b[39;00m\n\u001b[1;32m-> 1069\u001b[0m loc \u001b[38;5;241m=\u001b[39m \u001b[38;5;28;43mself\u001b[39;49m\u001b[38;5;241;43m.\u001b[39;49m\u001b[43mindex\u001b[49m\u001b[38;5;241;43m.\u001b[39;49m\u001b[43mget_loc\u001b[49m\u001b[43m(\u001b[49m\u001b[43mlabel\u001b[49m\u001b[43m)\u001b[49m\n\u001b[0;32m   1070\u001b[0m \u001b[38;5;28;01mreturn\u001b[39;00m \u001b[38;5;28mself\u001b[39m\u001b[38;5;241m.\u001b[39mindex\u001b[38;5;241m.\u001b[39m_get_values_for_loc(\u001b[38;5;28mself\u001b[39m, loc, label)\n",
      "File \u001b[1;32m~\\anaconda3\\lib\\site-packages\\pandas\\core\\indexes\\base.py:3623\u001b[0m, in \u001b[0;36mIndex.get_loc\u001b[1;34m(self, key, method, tolerance)\u001b[0m\n\u001b[0;32m   3621\u001b[0m     \u001b[38;5;28;01mreturn\u001b[39;00m \u001b[38;5;28mself\u001b[39m\u001b[38;5;241m.\u001b[39m_engine\u001b[38;5;241m.\u001b[39mget_loc(casted_key)\n\u001b[0;32m   3622\u001b[0m \u001b[38;5;28;01mexcept\u001b[39;00m \u001b[38;5;167;01mKeyError\u001b[39;00m \u001b[38;5;28;01mas\u001b[39;00m err:\n\u001b[1;32m-> 3623\u001b[0m     \u001b[38;5;28;01mraise\u001b[39;00m \u001b[38;5;167;01mKeyError\u001b[39;00m(key) \u001b[38;5;28;01mfrom\u001b[39;00m \u001b[38;5;21;01merr\u001b[39;00m\n\u001b[0;32m   3624\u001b[0m \u001b[38;5;28;01mexcept\u001b[39;00m \u001b[38;5;167;01mTypeError\u001b[39;00m:\n\u001b[0;32m   3625\u001b[0m     \u001b[38;5;66;03m# If we have a listlike key, _check_indexing_error will raise\u001b[39;00m\n\u001b[0;32m   3626\u001b[0m     \u001b[38;5;66;03m#  InvalidIndexError. Otherwise we fall through and re-raise\u001b[39;00m\n\u001b[0;32m   3627\u001b[0m     \u001b[38;5;66;03m#  the TypeError.\u001b[39;00m\n\u001b[0;32m   3628\u001b[0m     \u001b[38;5;28mself\u001b[39m\u001b[38;5;241m.\u001b[39m_check_indexing_error(key)\n",
      "\u001b[1;31mKeyError\u001b[0m: 'f'"
     ]
    }
   ],
   "source": [
    "s['f']\n"
   ]
  },
  {
   "cell_type": "code",
   "execution_count": 20,
   "id": "11e9a239",
   "metadata": {},
   "outputs": [
    {
     "data": {
      "text/plain": [
       "nan"
      ]
     },
     "execution_count": 20,
     "metadata": {},
     "output_type": "execute_result"
    }
   ],
   "source": [
    "s.get('f') #it will return none\n",
    "s.get('f', np.nan) #it will return default value"
   ]
  },
  {
   "cell_type": "markdown",
   "id": "3079ff31",
   "metadata": {},
   "source": [
    "**10.6 Vectorized operations and label alignment with Series:**\n",
    "-  When doing data analysis, as with raw NumPy arrays looping through Series value-by-value is usually not necessary.\n",
    "-  Series can also be passed into most NumPy methods expecting an ndarray"
   ]
  },
  {
   "cell_type": "code",
   "execution_count": 22,
   "id": "177fd611",
   "metadata": {},
   "outputs": [],
   "source": [
    "a = s['a'] + s['a']\n",
    "b = s['b'] + s['b']\n",
    "c = s['c'] + s['c']\n",
    "d = s['d'] + s['d']\n",
    "e = s['e'] + s['e']\n"
   ]
  },
  {
   "cell_type": "code",
   "execution_count": null,
   "id": "78c1e853",
   "metadata": {},
   "outputs": [],
   "source": [
    "a = s['a'] *2\n",
    "b = s['b'] *2\n",
    "c = s['c'] *2\n",
    "d = s['d'] *2\n",
    "e = s['e'] *2\"\"\"\n",
    "s * 2\n"
   ]
  },
  {
   "cell_type": "markdown",
   "id": "a4afaec3",
   "metadata": {},
   "source": [
    "a -0.819867\n",
    "b -0.377477\n",
    "c -2.037099\n",
    "d 1.900894\n",
    "e 24.000000\n",
    "dtype: float64\n"
   ]
  },
  {
   "cell_type": "code",
   "execution_count": 25,
   "id": "a343a517",
   "metadata": {},
   "outputs": [
    {
     "data": {
      "text/plain": [
       "0    0.814081\n",
       "1    0.634174\n",
       "2   -0.867801\n",
       "3   -0.682534\n",
       "4   -1.025407\n",
       "Name: something, dtype: float64"
      ]
     },
     "execution_count": 25,
     "metadata": {},
     "output_type": "execute_result"
    }
   ],
   "source": [
    " s = pd.Series(np.random.randn(5), name='something')\n",
    "s\n"
   ]
  },
  {
   "cell_type": "code",
   "execution_count": 26,
   "id": "0cdc8146",
   "metadata": {},
   "outputs": [
    {
     "data": {
      "text/plain": [
       "'something'"
      ]
     },
     "execution_count": 26,
     "metadata": {},
     "output_type": "execute_result"
    }
   ],
   "source": [
    "s.name"
   ]
  },
  {
   "cell_type": "code",
   "execution_count": 27,
   "id": "80f11d21",
   "metadata": {},
   "outputs": [
    {
     "data": {
      "text/plain": [
       "'different'"
      ]
     },
     "execution_count": 27,
     "metadata": {},
     "output_type": "execute_result"
    }
   ],
   "source": [
    "s2 = s.rename(\"different\")\n",
    "s2.name"
   ]
  },
  {
   "cell_type": "markdown",
   "id": "5848ec40",
   "metadata": {},
   "source": [
    "# 11. Data Frames:\n",
    "-  DataFrames are the workhorse of pandas and are directly inspired by the R programming language.\n",
    "-  Like Series, DataFrame accepts many different kinds of input:\n",
    "-  Dict of 1D ndarrays, lists, dicts, or Series\n",
    "-  2-D numpy.ndarray\n",
    "-  Structured or record ndarray\n",
    "-  A Series\n",
    "-  Another DataFrame\n",
    "-  Along with the data, you can optionally pass index (row labels) and columns (column labels) arguments.\n",
    "-  If you pass an index and / or columns, you are guaranteeing the index and / or columns of the resulting DataFrame.\n",
    "-  Thus, a dict of Series plus a specific index will discard all data not matching up to the passed index.\n",
    "\n",
    "-  If axis labels are not passed, they will be constructed from the input data based on common sense rules\n",
    "**11.1 From dict of Series or dicts:**\n",
    "- The result index will be the union of the indexes of the various Series.\n",
    "- If there are any nested dicts, these will be first converted to Series.\n",
    "- If no columns are passed, the columns will be the sorted list of dict keys"
   ]
  },
  {
   "cell_type": "code",
   "execution_count": 30,
   "id": "c1d17124",
   "metadata": {},
   "outputs": [
    {
     "data": {
      "text/html": [
       "<div>\n",
       "<style scoped>\n",
       "    .dataframe tbody tr th:only-of-type {\n",
       "        vertical-align: middle;\n",
       "    }\n",
       "\n",
       "    .dataframe tbody tr th {\n",
       "        vertical-align: top;\n",
       "    }\n",
       "\n",
       "    .dataframe thead th {\n",
       "        text-align: right;\n",
       "    }\n",
       "</style>\n",
       "<table border=\"1\" class=\"dataframe\">\n",
       "  <thead>\n",
       "    <tr style=\"text-align: right;\">\n",
       "      <th></th>\n",
       "      <th>one</th>\n",
       "      <th>two</th>\n",
       "    </tr>\n",
       "  </thead>\n",
       "  <tbody>\n",
       "    <tr>\n",
       "      <th>1</th>\n",
       "      <td>1.0</td>\n",
       "      <td>NaN</td>\n",
       "    </tr>\n",
       "    <tr>\n",
       "      <th>2</th>\n",
       "      <td>2.0</td>\n",
       "      <td>NaN</td>\n",
       "    </tr>\n",
       "    <tr>\n",
       "      <th>3</th>\n",
       "      <td>3.0</td>\n",
       "      <td>NaN</td>\n",
       "    </tr>\n",
       "    <tr>\n",
       "      <th>a</th>\n",
       "      <td>NaN</td>\n",
       "      <td>1.0</td>\n",
       "    </tr>\n",
       "    <tr>\n",
       "      <th>b</th>\n",
       "      <td>NaN</td>\n",
       "      <td>2.0</td>\n",
       "    </tr>\n",
       "    <tr>\n",
       "      <th>c</th>\n",
       "      <td>NaN</td>\n",
       "      <td>3.0</td>\n",
       "    </tr>\n",
       "    <tr>\n",
       "      <th>d</th>\n",
       "      <td>NaN</td>\n",
       "      <td>4.0</td>\n",
       "    </tr>\n",
       "  </tbody>\n",
       "</table>\n",
       "</div>"
      ],
      "text/plain": [
       "   one  two\n",
       "1  1.0  NaN\n",
       "2  2.0  NaN\n",
       "3  3.0  NaN\n",
       "a  NaN  1.0\n",
       "b  NaN  2.0\n",
       "c  NaN  3.0\n",
       "d  NaN  4.0"
      ]
     },
     "execution_count": 30,
     "metadata": {},
     "output_type": "execute_result"
    }
   ],
   "source": [
    "d = {\n",
    " 'one' : pd.Series([1., 2., 3.], index=['1', '2', '3']),\n",
    " 'two' : pd.Series([1., 2., 3., 4.], index=['a', 'b', 'c', 'd'])\n",
    " }\n",
    "\"\"\"create a dataframe. row label will be the indes of a series. As coloum labels are not given so it\n",
    " will be sorted list of dict keys\"\"\"\n",
    "df = pd.DataFrame(d)\n",
    "df\n"
   ]
  },
  {
   "cell_type": "code",
   "execution_count": 31,
   "id": "08dbdfdd",
   "metadata": {},
   "outputs": [
    {
     "data": {
      "text/html": [
       "<div>\n",
       "<style scoped>\n",
       "    .dataframe tbody tr th:only-of-type {\n",
       "        vertical-align: middle;\n",
       "    }\n",
       "\n",
       "    .dataframe tbody tr th {\n",
       "        vertical-align: top;\n",
       "    }\n",
       "\n",
       "    .dataframe thead th {\n",
       "        text-align: right;\n",
       "    }\n",
       "</style>\n",
       "<table border=\"1\" class=\"dataframe\">\n",
       "  <thead>\n",
       "    <tr style=\"text-align: right;\">\n",
       "      <th></th>\n",
       "      <th>one</th>\n",
       "      <th>two</th>\n",
       "    </tr>\n",
       "  </thead>\n",
       "  <tbody>\n",
       "    <tr>\n",
       "      <th>1</th>\n",
       "      <td>1.0</td>\n",
       "      <td>NaN</td>\n",
       "    </tr>\n",
       "    <tr>\n",
       "      <th>2</th>\n",
       "      <td>2.0</td>\n",
       "      <td>NaN</td>\n",
       "    </tr>\n",
       "    <tr>\n",
       "      <th>3</th>\n",
       "      <td>3.0</td>\n",
       "      <td>NaN</td>\n",
       "    </tr>\n",
       "  </tbody>\n",
       "</table>\n",
       "</div>"
      ],
      "text/plain": [
       "   one  two\n",
       "1  1.0  NaN\n",
       "2  2.0  NaN\n",
       "3  3.0  NaN"
      ]
     },
     "execution_count": 31,
     "metadata": {},
     "output_type": "execute_result"
    }
   ],
   "source": [
    "pd.DataFrame(d, index=['1', '2', '3'])\n"
   ]
  },
  {
   "cell_type": "code",
   "execution_count": 32,
   "id": "857bd4d0",
   "metadata": {},
   "outputs": [
    {
     "data": {
      "text/html": [
       "<div>\n",
       "<style scoped>\n",
       "    .dataframe tbody tr th:only-of-type {\n",
       "        vertical-align: middle;\n",
       "    }\n",
       "\n",
       "    .dataframe tbody tr th {\n",
       "        vertical-align: top;\n",
       "    }\n",
       "\n",
       "    .dataframe thead th {\n",
       "        text-align: right;\n",
       "    }\n",
       "</style>\n",
       "<table border=\"1\" class=\"dataframe\">\n",
       "  <thead>\n",
       "    <tr style=\"text-align: right;\">\n",
       "      <th></th>\n",
       "      <th>two</th>\n",
       "      <th>three</th>\n",
       "    </tr>\n",
       "  </thead>\n",
       "  <tbody>\n",
       "    <tr>\n",
       "      <th>3</th>\n",
       "      <td>NaN</td>\n",
       "      <td>NaN</td>\n",
       "    </tr>\n",
       "    <tr>\n",
       "      <th>2</th>\n",
       "      <td>NaN</td>\n",
       "      <td>NaN</td>\n",
       "    </tr>\n",
       "    <tr>\n",
       "      <th>1</th>\n",
       "      <td>NaN</td>\n",
       "      <td>NaN</td>\n",
       "    </tr>\n",
       "  </tbody>\n",
       "</table>\n",
       "</div>"
      ],
      "text/plain": [
       "   two three\n",
       "3  NaN   NaN\n",
       "2  NaN   NaN\n",
       "1  NaN   NaN"
      ]
     },
     "execution_count": 32,
     "metadata": {},
     "output_type": "execute_result"
    }
   ],
   "source": [
    "pd.DataFrame(d, index=['3', '2', '1'], columns=['two', 'three'])\n"
   ]
  },
  {
   "cell_type": "code",
   "execution_count": 33,
   "id": "083b4a6b",
   "metadata": {},
   "outputs": [
    {
     "data": {
      "text/plain": [
       "Index(['one', 'two'], dtype='object')"
      ]
     },
     "execution_count": 33,
     "metadata": {},
     "output_type": "execute_result"
    }
   ],
   "source": [
    "df.columns"
   ]
  },
  {
   "cell_type": "markdown",
   "id": "df171572",
   "metadata": {},
   "source": [
    "**11.2 From dict of ndarrays / lists:**\n",
    "-  The ndarrays must all be the same length.\n",
    "-  If an index is passed, it must clearly also be the same length as the arrays.\n",
    "-  If no index is passed, the result will be range(n), where n is the array length."
   ]
  },
  {
   "cell_type": "code",
   "execution_count": 35,
   "id": "8ca96b4b",
   "metadata": {},
   "outputs": [],
   "source": [
    "d = {\n",
    " 'one' : [1., 2., 3., 4.],\n",
    " 'two' : [4., 3., 2., 1.]\n",
    " }\n"
   ]
  },
  {
   "cell_type": "code",
   "execution_count": 37,
   "id": "cd3ea781",
   "metadata": {},
   "outputs": [
    {
     "data": {
      "text/html": [
       "<div>\n",
       "<style scoped>\n",
       "    .dataframe tbody tr th:only-of-type {\n",
       "        vertical-align: middle;\n",
       "    }\n",
       "\n",
       "    .dataframe tbody tr th {\n",
       "        vertical-align: top;\n",
       "    }\n",
       "\n",
       "    .dataframe thead th {\n",
       "        text-align: right;\n",
       "    }\n",
       "</style>\n",
       "<table border=\"1\" class=\"dataframe\">\n",
       "  <thead>\n",
       "    <tr style=\"text-align: right;\">\n",
       "      <th></th>\n",
       "      <th>one</th>\n",
       "      <th>two</th>\n",
       "    </tr>\n",
       "  </thead>\n",
       "  <tbody>\n",
       "    <tr>\n",
       "      <th>1</th>\n",
       "      <td>1.0</td>\n",
       "      <td>4.0</td>\n",
       "    </tr>\n",
       "    <tr>\n",
       "      <th>2</th>\n",
       "      <td>2.0</td>\n",
       "      <td>3.0</td>\n",
       "    </tr>\n",
       "    <tr>\n",
       "      <th>3</th>\n",
       "      <td>3.0</td>\n",
       "      <td>2.0</td>\n",
       "    </tr>\n",
       "    <tr>\n",
       "      <th>4</th>\n",
       "      <td>4.0</td>\n",
       "      <td>1.0</td>\n",
       "    </tr>\n",
       "  </tbody>\n",
       "</table>\n",
       "</div>"
      ],
      "text/plain": [
       "   one  two\n",
       "1  1.0  4.0\n",
       "2  2.0  3.0\n",
       "3  3.0  2.0\n",
       "4  4.0  1.0"
      ]
     },
     "execution_count": 37,
     "metadata": {},
     "output_type": "execute_result"
    }
   ],
   "source": [
    "pd.DataFrame(d, index=['1', '2', '3', '4'])\n"
   ]
  },
  {
   "cell_type": "markdown",
   "id": "89948fd5",
   "metadata": {},
   "source": [
    "**11.3 From a list of dicts:**\n",
    "\n"
   ]
  },
  {
   "cell_type": "code",
   "execution_count": 40,
   "id": "dc829b34",
   "metadata": {},
   "outputs": [
    {
     "data": {
      "text/html": [
       "<div>\n",
       "<style scoped>\n",
       "    .dataframe tbody tr th:only-of-type {\n",
       "        vertical-align: middle;\n",
       "    }\n",
       "\n",
       "    .dataframe tbody tr th {\n",
       "        vertical-align: top;\n",
       "    }\n",
       "\n",
       "    .dataframe thead th {\n",
       "        text-align: right;\n",
       "    }\n",
       "</style>\n",
       "<table border=\"1\" class=\"dataframe\">\n",
       "  <thead>\n",
       "    <tr style=\"text-align: right;\">\n",
       "      <th></th>\n",
       "      <th>A</th>\n",
       "      <th>B</th>\n",
       "      <th>C</th>\n",
       "    </tr>\n",
       "  </thead>\n",
       "  <tbody>\n",
       "    <tr>\n",
       "      <th>0</th>\n",
       "      <td>9</td>\n",
       "      <td>18</td>\n",
       "      <td>NaN</td>\n",
       "    </tr>\n",
       "    <tr>\n",
       "      <th>1</th>\n",
       "      <td>5</td>\n",
       "      <td>10</td>\n",
       "      <td>20.0</td>\n",
       "    </tr>\n",
       "  </tbody>\n",
       "</table>\n",
       "</div>"
      ],
      "text/plain": [
       "   A   B     C\n",
       "0  9  18   NaN\n",
       "1  5  10  20.0"
      ]
     },
     "execution_count": 40,
     "metadata": {},
     "output_type": "execute_result"
    }
   ],
   "source": [
    "data2 = [{'A': 9, 'B': 18}, {'A': 5, 'B': 10, 'C': 20}]\n",
    "pd.DataFrame(data2)\n"
   ]
  },
  {
   "cell_type": "code",
   "execution_count": 42,
   "id": "5c240ae5",
   "metadata": {},
   "outputs": [
    {
     "data": {
      "text/html": [
       "<div>\n",
       "<style scoped>\n",
       "    .dataframe tbody tr th:only-of-type {\n",
       "        vertical-align: middle;\n",
       "    }\n",
       "\n",
       "    .dataframe tbody tr th {\n",
       "        vertical-align: top;\n",
       "    }\n",
       "\n",
       "    .dataframe thead th {\n",
       "        text-align: right;\n",
       "    }\n",
       "</style>\n",
       "<table border=\"1\" class=\"dataframe\">\n",
       "  <thead>\n",
       "    <tr style=\"text-align: right;\">\n",
       "      <th></th>\n",
       "      <th>A</th>\n",
       "      <th>B</th>\n",
       "      <th>C</th>\n",
       "    </tr>\n",
       "  </thead>\n",
       "  <tbody>\n",
       "    <tr>\n",
       "      <th>first</th>\n",
       "      <td>9</td>\n",
       "      <td>18</td>\n",
       "      <td>NaN</td>\n",
       "    </tr>\n",
       "    <tr>\n",
       "      <th>second</th>\n",
       "      <td>5</td>\n",
       "      <td>10</td>\n",
       "      <td>20.0</td>\n",
       "    </tr>\n",
       "  </tbody>\n",
       "</table>\n",
       "</div>"
      ],
      "text/plain": [
       "        A   B     C\n",
       "first   9  18   NaN\n",
       "second  5  10  20.0"
      ]
     },
     "execution_count": 42,
     "metadata": {},
     "output_type": "execute_result"
    }
   ],
   "source": [
    "\"\"\"passing list of dicts as data and indexes (row labels)\"\"\"\n",
    "pd.DataFrame(data2, index=['first', 'second'])\n"
   ]
  },
  {
   "cell_type": "code",
   "execution_count": 43,
   "id": "b0c233d5",
   "metadata": {},
   "outputs": [
    {
     "data": {
      "text/html": [
       "<div>\n",
       "<style scoped>\n",
       "    .dataframe tbody tr th:only-of-type {\n",
       "        vertical-align: middle;\n",
       "    }\n",
       "\n",
       "    .dataframe tbody tr th {\n",
       "        vertical-align: top;\n",
       "    }\n",
       "\n",
       "    .dataframe thead th {\n",
       "        text-align: right;\n",
       "    }\n",
       "</style>\n",
       "<table border=\"1\" class=\"dataframe\">\n",
       "  <thead>\n",
       "    <tr style=\"text-align: right;\">\n",
       "      <th></th>\n",
       "      <th>B</th>\n",
       "      <th>C</th>\n",
       "    </tr>\n",
       "  </thead>\n",
       "  <tbody>\n",
       "    <tr>\n",
       "      <th>0</th>\n",
       "      <td>18</td>\n",
       "      <td>NaN</td>\n",
       "    </tr>\n",
       "    <tr>\n",
       "      <th>1</th>\n",
       "      <td>10</td>\n",
       "      <td>20.0</td>\n",
       "    </tr>\n",
       "  </tbody>\n",
       "</table>\n",
       "</div>"
      ],
      "text/plain": [
       "    B     C\n",
       "0  18   NaN\n",
       "1  10  20.0"
      ]
     },
     "execution_count": 43,
     "metadata": {},
     "output_type": "execute_result"
    }
   ],
   "source": [
    "pd.DataFrame(data2, columns=['B', 'C'])\n"
   ]
  },
  {
   "cell_type": "markdown",
   "id": "ca046dac",
   "metadata": {},
   "source": [
    "**11.4 From a dict of tuples:**\n",
    "You can automatically create a multi-indexed frame by passing a tuples dictionary"
   ]
  },
  {
   "cell_type": "code",
   "execution_count": 45,
   "id": "97692814",
   "metadata": {},
   "outputs": [
    {
     "data": {
      "text/html": [
       "<div>\n",
       "<style scoped>\n",
       "    .dataframe tbody tr th:only-of-type {\n",
       "        vertical-align: middle;\n",
       "    }\n",
       "\n",
       "    .dataframe tbody tr th {\n",
       "        vertical-align: top;\n",
       "    }\n",
       "\n",
       "    .dataframe thead tr th {\n",
       "        text-align: left;\n",
       "    }\n",
       "</style>\n",
       "<table border=\"1\" class=\"dataframe\">\n",
       "  <thead>\n",
       "    <tr>\n",
       "      <th></th>\n",
       "      <th></th>\n",
       "      <th colspan=\"2\" halign=\"left\">Y</th>\n",
       "      <th>a</th>\n",
       "      <th colspan=\"2\" halign=\"left\">b</th>\n",
       "    </tr>\n",
       "    <tr>\n",
       "      <th></th>\n",
       "      <th></th>\n",
       "      <th>Z</th>\n",
       "      <th>Y</th>\n",
       "      <th>c</th>\n",
       "      <th>a</th>\n",
       "      <th>b</th>\n",
       "    </tr>\n",
       "  </thead>\n",
       "  <tbody>\n",
       "    <tr>\n",
       "      <th rowspan=\"2\" valign=\"top\">a</th>\n",
       "      <th>b</th>\n",
       "      <td>1.0</td>\n",
       "      <td>NaN</td>\n",
       "      <td>NaN</td>\n",
       "      <td>NaN</td>\n",
       "      <td>NaN</td>\n",
       "    </tr>\n",
       "    <tr>\n",
       "      <th>c</th>\n",
       "      <td>2.0</td>\n",
       "      <td>18.0</td>\n",
       "      <td>NaN</td>\n",
       "      <td>NaN</td>\n",
       "      <td>NaN</td>\n",
       "    </tr>\n",
       "    <tr>\n",
       "      <th>Y</th>\n",
       "      <th>Z</th>\n",
       "      <td>NaN</td>\n",
       "      <td>19.0</td>\n",
       "      <td>NaN</td>\n",
       "      <td>NaN</td>\n",
       "      <td>NaN</td>\n",
       "    </tr>\n",
       "    <tr>\n",
       "      <th rowspan=\"3\" valign=\"top\">A</th>\n",
       "      <th>B</th>\n",
       "      <td>NaN</td>\n",
       "      <td>NaN</td>\n",
       "      <td>5.0</td>\n",
       "      <td>8.0</td>\n",
       "      <td>10.0</td>\n",
       "    </tr>\n",
       "    <tr>\n",
       "      <th>C</th>\n",
       "      <td>NaN</td>\n",
       "      <td>NaN</td>\n",
       "      <td>6.0</td>\n",
       "      <td>7.0</td>\n",
       "      <td>NaN</td>\n",
       "    </tr>\n",
       "    <tr>\n",
       "      <th>D</th>\n",
       "      <td>NaN</td>\n",
       "      <td>NaN</td>\n",
       "      <td>NaN</td>\n",
       "      <td>NaN</td>\n",
       "      <td>9.0</td>\n",
       "    </tr>\n",
       "  </tbody>\n",
       "</table>\n",
       "</div>"
      ],
      "text/plain": [
       "       Y          a    b      \n",
       "       Z     Y    c    a     b\n",
       "a b  1.0   NaN  NaN  NaN   NaN\n",
       "  c  2.0  18.0  NaN  NaN   NaN\n",
       "Y Z  NaN  19.0  NaN  NaN   NaN\n",
       "A B  NaN   NaN  5.0  8.0  10.0\n",
       "  C  NaN   NaN  6.0  7.0   NaN\n",
       "  D  NaN   NaN  NaN  NaN   9.0"
      ]
     },
     "execution_count": 45,
     "metadata": {},
     "output_type": "execute_result"
    }
   ],
   "source": [
    "pd.DataFrame({('Y', 'Z'): {('a', 'b'): 1, ('a', 'c'): 2},\n",
    " ('Y', 'Y'): {('a', 'c'): 18, ('Y', 'Z'): 19},\n",
    " ('a', 'c'): {('A', 'B'): 5, ('A', 'C'): 6},\n",
    " ('b', 'a'): {('A', 'C'): 7, ('A', 'B'): 8},\n",
    " ('b', 'b'): {('A', 'D'): 9, ('A', 'B'): 10}})\n"
   ]
  },
  {
   "cell_type": "markdown",
   "id": "2a9959f3",
   "metadata": {},
   "source": [
    "**11.5 Alternate Constructors:**\n",
    "- DataFrame.from_dict\n",
    "- DataFrame.from_dict takes a dict of dicts or a dict of array-like sequences and returns a DataFrame.\n",
    "- It operates like the DataFrame constructor except for the orient parameter which is 'columns' by default, but which can be set to 'index' in order to use the dict keys as row labels.\n",
    "- DataFrame.from_records\n",
    "- DataFrame.from_records takes a list of tuples or an ndarray with structured dtype.\n",
    "- Works analogously to the normal DataFrame constructor, except that index maybe be a specific field of the structured dtype to use as theindex. For example:\n"
   ]
  },
  {
   "cell_type": "code",
   "execution_count": 46,
   "id": "df1b2785",
   "metadata": {},
   "outputs": [
    {
     "data": {
      "text/plain": [
       "array([(0, 0., b''), (0, 0., b'')],\n",
       "      dtype=[('A', '<i4'), ('B', '<f4'), ('C', 'S10')])"
      ]
     },
     "execution_count": 46,
     "metadata": {},
     "output_type": "execute_result"
    }
   ],
   "source": [
    "data = np.zeros((2,), dtype=[('A', 'i4'),('B', 'f4'),('C', 'a10')])\n",
    "data\n"
   ]
  },
  {
   "cell_type": "code",
   "execution_count": 49,
   "id": "26fa3ae9",
   "metadata": {},
   "outputs": [
    {
     "data": {
      "text/html": [
       "<div>\n",
       "<style scoped>\n",
       "    .dataframe tbody tr th:only-of-type {\n",
       "        vertical-align: middle;\n",
       "    }\n",
       "\n",
       "    .dataframe tbody tr th {\n",
       "        vertical-align: top;\n",
       "    }\n",
       "\n",
       "    .dataframe thead th {\n",
       "        text-align: right;\n",
       "    }\n",
       "</style>\n",
       "<table border=\"1\" class=\"dataframe\">\n",
       "  <thead>\n",
       "    <tr style=\"text-align: right;\">\n",
       "      <th></th>\n",
       "      <th>A</th>\n",
       "      <th>C</th>\n",
       "    </tr>\n",
       "    <tr>\n",
       "      <th>B</th>\n",
       "      <th></th>\n",
       "      <th></th>\n",
       "    </tr>\n",
       "  </thead>\n",
       "  <tbody>\n",
       "    <tr>\n",
       "      <th>0.0</th>\n",
       "      <td>0</td>\n",
       "      <td>b''</td>\n",
       "    </tr>\n",
       "    <tr>\n",
       "      <th>0.0</th>\n",
       "      <td>0</td>\n",
       "      <td>b''</td>\n",
       "    </tr>\n",
       "  </tbody>\n",
       "</table>\n",
       "</div>"
      ],
      "text/plain": [
       "     A    C\n",
       "B          \n",
       "0.0  0  b''\n",
       "0.0  0  b''"
      ]
     },
     "execution_count": 49,
     "metadata": {},
     "output_type": "execute_result"
    }
   ],
   "source": [
    "pd.DataFrame.from_records(data, index='B')"
   ]
  },
  {
   "cell_type": "markdown",
   "id": "4be005de",
   "metadata": {},
   "source": [
    "**DataFrame.from_items**\n",
    "DataFrame.from_items works analogously to the form of the dict constructor that takes a  \n",
    "sequence of (key, value) pairs, where the keys arecolumn (or row, in the case of orient='index')  \n",
    "names, and the value are the column values (or row values).This can be useful for constructing a  \n",
    "DataFrame with the columns in a particular order without having to pass an explicit list of columns"
   ]
  },
  {
   "cell_type": "code",
   "execution_count": null,
   "id": "230a41df",
   "metadata": {},
   "outputs": [],
   "source": [
    " pd.DataFrame.from_items([('A', [1, 2, 3]), ('B', [4, 5, 6])])"
   ]
  },
  {
   "cell_type": "code",
   "execution_count": null,
   "id": "abe289b0",
   "metadata": {},
   "outputs": [],
   "source": [
    "pd.DataFrame.from_items([('A', [1, 2, 3]), ('B', [4, 5, 6])],\n",
    " orient='index', columns=['one', 'two', 'three'])\n"
   ]
  },
  {
   "cell_type": "markdown",
   "id": "d45bb7ad",
   "metadata": {},
   "source": [
    "**11.6 Column selection, addition, deletion:**\n",
    "- DataFrame can be treated semantically like a dict of like-indexed Series objects. Getting, setting, and deleting columns works with the same syntax as the analogous dict operations"
   ]
  },
  {
   "cell_type": "code",
   "execution_count": 53,
   "id": "0fb1952b",
   "metadata": {},
   "outputs": [
    {
     "data": {
      "text/plain": [
       "1    1.0\n",
       "2    2.0\n",
       "3    3.0\n",
       "a    NaN\n",
       "b    NaN\n",
       "c    NaN\n",
       "d    NaN\n",
       "Name: one, dtype: float64"
      ]
     },
     "execution_count": 53,
     "metadata": {},
     "output_type": "execute_result"
    }
   ],
   "source": [
    "df['one'] # it is displaying data under coloumn 'one'"
   ]
  },
  {
   "cell_type": "code",
   "execution_count": 54,
   "id": "99aae4af",
   "metadata": {},
   "outputs": [
    {
     "data": {
      "text/html": [
       "<div>\n",
       "<style scoped>\n",
       "    .dataframe tbody tr th:only-of-type {\n",
       "        vertical-align: middle;\n",
       "    }\n",
       "\n",
       "    .dataframe tbody tr th {\n",
       "        vertical-align: top;\n",
       "    }\n",
       "\n",
       "    .dataframe thead th {\n",
       "        text-align: right;\n",
       "    }\n",
       "</style>\n",
       "<table border=\"1\" class=\"dataframe\">\n",
       "  <thead>\n",
       "    <tr style=\"text-align: right;\">\n",
       "      <th></th>\n",
       "      <th>one</th>\n",
       "      <th>two</th>\n",
       "      <th>three</th>\n",
       "      <th>flag</th>\n",
       "    </tr>\n",
       "  </thead>\n",
       "  <tbody>\n",
       "    <tr>\n",
       "      <th>1</th>\n",
       "      <td>1.0</td>\n",
       "      <td>NaN</td>\n",
       "      <td>NaN</td>\n",
       "      <td>False</td>\n",
       "    </tr>\n",
       "    <tr>\n",
       "      <th>2</th>\n",
       "      <td>2.0</td>\n",
       "      <td>NaN</td>\n",
       "      <td>NaN</td>\n",
       "      <td>False</td>\n",
       "    </tr>\n",
       "    <tr>\n",
       "      <th>3</th>\n",
       "      <td>3.0</td>\n",
       "      <td>NaN</td>\n",
       "      <td>NaN</td>\n",
       "      <td>True</td>\n",
       "    </tr>\n",
       "    <tr>\n",
       "      <th>a</th>\n",
       "      <td>NaN</td>\n",
       "      <td>1.0</td>\n",
       "      <td>NaN</td>\n",
       "      <td>False</td>\n",
       "    </tr>\n",
       "    <tr>\n",
       "      <th>b</th>\n",
       "      <td>NaN</td>\n",
       "      <td>2.0</td>\n",
       "      <td>NaN</td>\n",
       "      <td>False</td>\n",
       "    </tr>\n",
       "    <tr>\n",
       "      <th>c</th>\n",
       "      <td>NaN</td>\n",
       "      <td>3.0</td>\n",
       "      <td>NaN</td>\n",
       "      <td>False</td>\n",
       "    </tr>\n",
       "    <tr>\n",
       "      <th>d</th>\n",
       "      <td>NaN</td>\n",
       "      <td>4.0</td>\n",
       "      <td>NaN</td>\n",
       "      <td>False</td>\n",
       "    </tr>\n",
       "  </tbody>\n",
       "</table>\n",
       "</div>"
      ],
      "text/plain": [
       "   one  two  three   flag\n",
       "1  1.0  NaN    NaN  False\n",
       "2  2.0  NaN    NaN  False\n",
       "3  3.0  NaN    NaN   True\n",
       "a  NaN  1.0    NaN  False\n",
       "b  NaN  2.0    NaN  False\n",
       "c  NaN  3.0    NaN  False\n",
       "d  NaN  4.0    NaN  False"
      ]
     },
     "execution_count": 54,
     "metadata": {},
     "output_type": "execute_result"
    }
   ],
   "source": [
    "df['three'] = df['one'] * df['two']\n",
    "df['flag'] = df['one'] > 2\n",
    "df"
   ]
  },
  {
   "cell_type": "code",
   "execution_count": 55,
   "id": "c64973fe",
   "metadata": {},
   "outputs": [],
   "source": [
    "del df['two'] #delete a coloumn 'two' from data frame"
   ]
  },
  {
   "cell_type": "code",
   "execution_count": 56,
   "id": "3e6a3c2a",
   "metadata": {},
   "outputs": [],
   "source": [
    "three = df.pop('three') #pop a complete coloumn 'three' from dataframe\n"
   ]
  },
  {
   "cell_type": "code",
   "execution_count": 57,
   "id": "19cd2503",
   "metadata": {},
   "outputs": [
    {
     "data": {
      "text/html": [
       "<div>\n",
       "<style scoped>\n",
       "    .dataframe tbody tr th:only-of-type {\n",
       "        vertical-align: middle;\n",
       "    }\n",
       "\n",
       "    .dataframe tbody tr th {\n",
       "        vertical-align: top;\n",
       "    }\n",
       "\n",
       "    .dataframe thead th {\n",
       "        text-align: right;\n",
       "    }\n",
       "</style>\n",
       "<table border=\"1\" class=\"dataframe\">\n",
       "  <thead>\n",
       "    <tr style=\"text-align: right;\">\n",
       "      <th></th>\n",
       "      <th>one</th>\n",
       "      <th>flag</th>\n",
       "    </tr>\n",
       "  </thead>\n",
       "  <tbody>\n",
       "    <tr>\n",
       "      <th>1</th>\n",
       "      <td>1.0</td>\n",
       "      <td>False</td>\n",
       "    </tr>\n",
       "    <tr>\n",
       "      <th>2</th>\n",
       "      <td>2.0</td>\n",
       "      <td>False</td>\n",
       "    </tr>\n",
       "    <tr>\n",
       "      <th>3</th>\n",
       "      <td>3.0</td>\n",
       "      <td>True</td>\n",
       "    </tr>\n",
       "    <tr>\n",
       "      <th>a</th>\n",
       "      <td>NaN</td>\n",
       "      <td>False</td>\n",
       "    </tr>\n",
       "    <tr>\n",
       "      <th>b</th>\n",
       "      <td>NaN</td>\n",
       "      <td>False</td>\n",
       "    </tr>\n",
       "    <tr>\n",
       "      <th>c</th>\n",
       "      <td>NaN</td>\n",
       "      <td>False</td>\n",
       "    </tr>\n",
       "    <tr>\n",
       "      <th>d</th>\n",
       "      <td>NaN</td>\n",
       "      <td>False</td>\n",
       "    </tr>\n",
       "  </tbody>\n",
       "</table>\n",
       "</div>"
      ],
      "text/plain": [
       "   one   flag\n",
       "1  1.0  False\n",
       "2  2.0  False\n",
       "3  3.0   True\n",
       "a  NaN  False\n",
       "b  NaN  False\n",
       "c  NaN  False\n",
       "d  NaN  False"
      ]
     },
     "execution_count": 57,
     "metadata": {},
     "output_type": "execute_result"
    }
   ],
   "source": [
    "df"
   ]
  },
  {
   "cell_type": "code",
   "execution_count": 58,
   "id": "64d8c78d",
   "metadata": {},
   "outputs": [],
   "source": [
    "df['foo'] = 'bar'"
   ]
  },
  {
   "cell_type": "code",
   "execution_count": 59,
   "id": "a398dcb4",
   "metadata": {},
   "outputs": [
    {
     "data": {
      "text/html": [
       "<div>\n",
       "<style scoped>\n",
       "    .dataframe tbody tr th:only-of-type {\n",
       "        vertical-align: middle;\n",
       "    }\n",
       "\n",
       "    .dataframe tbody tr th {\n",
       "        vertical-align: top;\n",
       "    }\n",
       "\n",
       "    .dataframe thead th {\n",
       "        text-align: right;\n",
       "    }\n",
       "</style>\n",
       "<table border=\"1\" class=\"dataframe\">\n",
       "  <thead>\n",
       "    <tr style=\"text-align: right;\">\n",
       "      <th></th>\n",
       "      <th>one</th>\n",
       "      <th>flag</th>\n",
       "      <th>foo</th>\n",
       "    </tr>\n",
       "  </thead>\n",
       "  <tbody>\n",
       "    <tr>\n",
       "      <th>1</th>\n",
       "      <td>1.0</td>\n",
       "      <td>False</td>\n",
       "      <td>bar</td>\n",
       "    </tr>\n",
       "    <tr>\n",
       "      <th>2</th>\n",
       "      <td>2.0</td>\n",
       "      <td>False</td>\n",
       "      <td>bar</td>\n",
       "    </tr>\n",
       "    <tr>\n",
       "      <th>3</th>\n",
       "      <td>3.0</td>\n",
       "      <td>True</td>\n",
       "      <td>bar</td>\n",
       "    </tr>\n",
       "    <tr>\n",
       "      <th>a</th>\n",
       "      <td>NaN</td>\n",
       "      <td>False</td>\n",
       "      <td>bar</td>\n",
       "    </tr>\n",
       "    <tr>\n",
       "      <th>b</th>\n",
       "      <td>NaN</td>\n",
       "      <td>False</td>\n",
       "      <td>bar</td>\n",
       "    </tr>\n",
       "    <tr>\n",
       "      <th>c</th>\n",
       "      <td>NaN</td>\n",
       "      <td>False</td>\n",
       "      <td>bar</td>\n",
       "    </tr>\n",
       "    <tr>\n",
       "      <th>d</th>\n",
       "      <td>NaN</td>\n",
       "      <td>False</td>\n",
       "      <td>bar</td>\n",
       "    </tr>\n",
       "  </tbody>\n",
       "</table>\n",
       "</div>"
      ],
      "text/plain": [
       "   one   flag  foo\n",
       "1  1.0  False  bar\n",
       "2  2.0  False  bar\n",
       "3  3.0   True  bar\n",
       "a  NaN  False  bar\n",
       "b  NaN  False  bar\n",
       "c  NaN  False  bar\n",
       "d  NaN  False  bar"
      ]
     },
     "execution_count": 59,
     "metadata": {},
     "output_type": "execute_result"
    }
   ],
   "source": [
    "df"
   ]
  },
  {
   "cell_type": "markdown",
   "id": "9e6ac42e",
   "metadata": {},
   "source": [
    "When inserting a Series that does not have the same index as the DataFrame, it will be conformed to the DataFrame’s index:"
   ]
  },
  {
   "cell_type": "code",
   "execution_count": 60,
   "id": "70509ff0",
   "metadata": {},
   "outputs": [],
   "source": [
    "df['one_trunc'] = df['one'][:2]\n"
   ]
  },
  {
   "cell_type": "code",
   "execution_count": 61,
   "id": "2a69e29c",
   "metadata": {},
   "outputs": [
    {
     "data": {
      "text/html": [
       "<div>\n",
       "<style scoped>\n",
       "    .dataframe tbody tr th:only-of-type {\n",
       "        vertical-align: middle;\n",
       "    }\n",
       "\n",
       "    .dataframe tbody tr th {\n",
       "        vertical-align: top;\n",
       "    }\n",
       "\n",
       "    .dataframe thead th {\n",
       "        text-align: right;\n",
       "    }\n",
       "</style>\n",
       "<table border=\"1\" class=\"dataframe\">\n",
       "  <thead>\n",
       "    <tr style=\"text-align: right;\">\n",
       "      <th></th>\n",
       "      <th>one</th>\n",
       "      <th>flag</th>\n",
       "      <th>foo</th>\n",
       "      <th>one_trunc</th>\n",
       "    </tr>\n",
       "  </thead>\n",
       "  <tbody>\n",
       "    <tr>\n",
       "      <th>1</th>\n",
       "      <td>1.0</td>\n",
       "      <td>False</td>\n",
       "      <td>bar</td>\n",
       "      <td>1.0</td>\n",
       "    </tr>\n",
       "    <tr>\n",
       "      <th>2</th>\n",
       "      <td>2.0</td>\n",
       "      <td>False</td>\n",
       "      <td>bar</td>\n",
       "      <td>2.0</td>\n",
       "    </tr>\n",
       "    <tr>\n",
       "      <th>3</th>\n",
       "      <td>3.0</td>\n",
       "      <td>True</td>\n",
       "      <td>bar</td>\n",
       "      <td>NaN</td>\n",
       "    </tr>\n",
       "    <tr>\n",
       "      <th>a</th>\n",
       "      <td>NaN</td>\n",
       "      <td>False</td>\n",
       "      <td>bar</td>\n",
       "      <td>NaN</td>\n",
       "    </tr>\n",
       "    <tr>\n",
       "      <th>b</th>\n",
       "      <td>NaN</td>\n",
       "      <td>False</td>\n",
       "      <td>bar</td>\n",
       "      <td>NaN</td>\n",
       "    </tr>\n",
       "    <tr>\n",
       "      <th>c</th>\n",
       "      <td>NaN</td>\n",
       "      <td>False</td>\n",
       "      <td>bar</td>\n",
       "      <td>NaN</td>\n",
       "    </tr>\n",
       "    <tr>\n",
       "      <th>d</th>\n",
       "      <td>NaN</td>\n",
       "      <td>False</td>\n",
       "      <td>bar</td>\n",
       "      <td>NaN</td>\n",
       "    </tr>\n",
       "  </tbody>\n",
       "</table>\n",
       "</div>"
      ],
      "text/plain": [
       "   one   flag  foo  one_trunc\n",
       "1  1.0  False  bar        1.0\n",
       "2  2.0  False  bar        2.0\n",
       "3  3.0   True  bar        NaN\n",
       "a  NaN  False  bar        NaN\n",
       "b  NaN  False  bar        NaN\n",
       "c  NaN  False  bar        NaN\n",
       "d  NaN  False  bar        NaN"
      ]
     },
     "execution_count": 61,
     "metadata": {},
     "output_type": "execute_result"
    }
   ],
   "source": [
    "df"
   ]
  },
  {
   "cell_type": "code",
   "execution_count": null,
   "id": "50f1c7ee",
   "metadata": {},
   "outputs": [],
   "source": [
    "First argument: index where new coloumn will be inserted.\n",
    "Second argument: label or title of a new coloumn\n",
    "Third argument: it will create a coloumn at specified position\"\"\"\n",
    "df.insert(1, 'bar2', df['one'])"
   ]
  },
  {
   "cell_type": "markdown",
   "id": "1fb08a8a",
   "metadata": {},
   "source": [
    "**11.7 Indexing / Selection:**\n",
    "    "
   ]
  },
  {
   "cell_type": "code",
   "execution_count": 63,
   "id": "097c2ef2",
   "metadata": {},
   "outputs": [
    {
     "data": {
      "text/plain": [
       "one            NaN\n",
       "flag         False\n",
       "foo            bar\n",
       "one_trunc      NaN\n",
       "Name: b, dtype: object"
      ]
     },
     "execution_count": 63,
     "metadata": {},
     "output_type": "execute_result"
    }
   ],
   "source": [
    "df.loc['b'] "
   ]
  },
  {
   "cell_type": "code",
   "execution_count": 64,
   "id": "8d6d84a1",
   "metadata": {},
   "outputs": [
    {
     "data": {
      "text/plain": [
       "one           3.0\n",
       "flag         True\n",
       "foo           bar\n",
       "one_trunc     NaN\n",
       "Name: 3, dtype: object"
      ]
     },
     "execution_count": 64,
     "metadata": {},
     "output_type": "execute_result"
    }
   ],
   "source": [
    "df.iloc[2]"
   ]
  },
  {
   "cell_type": "markdown",
   "id": "4e4952d1",
   "metadata": {},
   "source": [
    "**11.8 Data alignment and arithmetic:**\n",
    "-  Data alignment between DataFrame objects automatically align on both the columns and the index (row labels).\n",
    "-  Again, the resulting object will have the union of the column and row labels"
   ]
  },
  {
   "cell_type": "code",
   "execution_count": 65,
   "id": "b9381b04",
   "metadata": {},
   "outputs": [],
   "source": [
    " df = pd.DataFrame(np.random.randn(10, 4), columns=['A', 'B', 'C', 'D'])\n"
   ]
  },
  {
   "cell_type": "code",
   "execution_count": 66,
   "id": "e32a1b54",
   "metadata": {},
   "outputs": [],
   "source": [
    "df2 = pd.DataFrame(np.random.randn(7, 3), columns=['A', 'B', 'C'])"
   ]
  },
  {
   "cell_type": "code",
   "execution_count": 67,
   "id": "febde8b4",
   "metadata": {},
   "outputs": [
    {
     "data": {
      "text/html": [
       "<div>\n",
       "<style scoped>\n",
       "    .dataframe tbody tr th:only-of-type {\n",
       "        vertical-align: middle;\n",
       "    }\n",
       "\n",
       "    .dataframe tbody tr th {\n",
       "        vertical-align: top;\n",
       "    }\n",
       "\n",
       "    .dataframe thead th {\n",
       "        text-align: right;\n",
       "    }\n",
       "</style>\n",
       "<table border=\"1\" class=\"dataframe\">\n",
       "  <thead>\n",
       "    <tr style=\"text-align: right;\">\n",
       "      <th></th>\n",
       "      <th>A</th>\n",
       "      <th>B</th>\n",
       "      <th>C</th>\n",
       "      <th>D</th>\n",
       "    </tr>\n",
       "  </thead>\n",
       "  <tbody>\n",
       "    <tr>\n",
       "      <th>0</th>\n",
       "      <td>2.104179</td>\n",
       "      <td>0.676785</td>\n",
       "      <td>-1.140122</td>\n",
       "      <td>NaN</td>\n",
       "    </tr>\n",
       "    <tr>\n",
       "      <th>1</th>\n",
       "      <td>0.346382</td>\n",
       "      <td>2.097710</td>\n",
       "      <td>0.314062</td>\n",
       "      <td>NaN</td>\n",
       "    </tr>\n",
       "    <tr>\n",
       "      <th>2</th>\n",
       "      <td>-1.701680</td>\n",
       "      <td>-0.128263</td>\n",
       "      <td>2.149840</td>\n",
       "      <td>NaN</td>\n",
       "    </tr>\n",
       "    <tr>\n",
       "      <th>3</th>\n",
       "      <td>-1.929180</td>\n",
       "      <td>-1.633828</td>\n",
       "      <td>-0.196537</td>\n",
       "      <td>NaN</td>\n",
       "    </tr>\n",
       "    <tr>\n",
       "      <th>4</th>\n",
       "      <td>0.170031</td>\n",
       "      <td>3.339122</td>\n",
       "      <td>-1.040472</td>\n",
       "      <td>NaN</td>\n",
       "    </tr>\n",
       "    <tr>\n",
       "      <th>5</th>\n",
       "      <td>0.372922</td>\n",
       "      <td>-0.094044</td>\n",
       "      <td>2.339194</td>\n",
       "      <td>NaN</td>\n",
       "    </tr>\n",
       "    <tr>\n",
       "      <th>6</th>\n",
       "      <td>-0.842030</td>\n",
       "      <td>1.051166</td>\n",
       "      <td>-0.085854</td>\n",
       "      <td>NaN</td>\n",
       "    </tr>\n",
       "    <tr>\n",
       "      <th>7</th>\n",
       "      <td>NaN</td>\n",
       "      <td>NaN</td>\n",
       "      <td>NaN</td>\n",
       "      <td>NaN</td>\n",
       "    </tr>\n",
       "    <tr>\n",
       "      <th>8</th>\n",
       "      <td>NaN</td>\n",
       "      <td>NaN</td>\n",
       "      <td>NaN</td>\n",
       "      <td>NaN</td>\n",
       "    </tr>\n",
       "    <tr>\n",
       "      <th>9</th>\n",
       "      <td>NaN</td>\n",
       "      <td>NaN</td>\n",
       "      <td>NaN</td>\n",
       "      <td>NaN</td>\n",
       "    </tr>\n",
       "  </tbody>\n",
       "</table>\n",
       "</div>"
      ],
      "text/plain": [
       "          A         B         C   D\n",
       "0  2.104179  0.676785 -1.140122 NaN\n",
       "1  0.346382  2.097710  0.314062 NaN\n",
       "2 -1.701680 -0.128263  2.149840 NaN\n",
       "3 -1.929180 -1.633828 -0.196537 NaN\n",
       "4  0.170031  3.339122 -1.040472 NaN\n",
       "5  0.372922 -0.094044  2.339194 NaN\n",
       "6 -0.842030  1.051166 -0.085854 NaN\n",
       "7       NaN       NaN       NaN NaN\n",
       "8       NaN       NaN       NaN NaN\n",
       "9       NaN       NaN       NaN NaN"
      ]
     },
     "execution_count": 67,
     "metadata": {},
     "output_type": "execute_result"
    }
   ],
   "source": [
    "df + df2 "
   ]
  },
  {
   "cell_type": "code",
   "execution_count": 68,
   "id": "200269fa",
   "metadata": {},
   "outputs": [
    {
     "data": {
      "text/html": [
       "<div>\n",
       "<style scoped>\n",
       "    .dataframe tbody tr th:only-of-type {\n",
       "        vertical-align: middle;\n",
       "    }\n",
       "\n",
       "    .dataframe tbody tr th {\n",
       "        vertical-align: top;\n",
       "    }\n",
       "\n",
       "    .dataframe thead th {\n",
       "        text-align: right;\n",
       "    }\n",
       "</style>\n",
       "<table border=\"1\" class=\"dataframe\">\n",
       "  <thead>\n",
       "    <tr style=\"text-align: right;\">\n",
       "      <th></th>\n",
       "      <th>A</th>\n",
       "      <th>B</th>\n",
       "      <th>C</th>\n",
       "      <th>D</th>\n",
       "    </tr>\n",
       "  </thead>\n",
       "  <tbody>\n",
       "    <tr>\n",
       "      <th>0</th>\n",
       "      <td>0.000000</td>\n",
       "      <td>0.000000</td>\n",
       "      <td>0.000000</td>\n",
       "      <td>0.000000</td>\n",
       "    </tr>\n",
       "    <tr>\n",
       "      <th>1</th>\n",
       "      <td>-0.810599</td>\n",
       "      <td>-0.105098</td>\n",
       "      <td>0.788817</td>\n",
       "      <td>-1.577572</td>\n",
       "    </tr>\n",
       "    <tr>\n",
       "      <th>2</th>\n",
       "      <td>-1.299969</td>\n",
       "      <td>-0.995228</td>\n",
       "      <td>3.127983</td>\n",
       "      <td>-1.282809</td>\n",
       "    </tr>\n",
       "    <tr>\n",
       "      <th>3</th>\n",
       "      <td>-1.277860</td>\n",
       "      <td>-1.976663</td>\n",
       "      <td>1.095274</td>\n",
       "      <td>0.965473</td>\n",
       "    </tr>\n",
       "    <tr>\n",
       "      <th>4</th>\n",
       "      <td>-1.364285</td>\n",
       "      <td>0.377218</td>\n",
       "      <td>0.149023</td>\n",
       "      <td>-1.284381</td>\n",
       "    </tr>\n",
       "    <tr>\n",
       "      <th>5</th>\n",
       "      <td>-0.420542</td>\n",
       "      <td>-0.407881</td>\n",
       "      <td>3.063647</td>\n",
       "      <td>-0.303292</td>\n",
       "    </tr>\n",
       "    <tr>\n",
       "      <th>6</th>\n",
       "      <td>-2.514870</td>\n",
       "      <td>-1.710879</td>\n",
       "      <td>0.053321</td>\n",
       "      <td>1.132004</td>\n",
       "    </tr>\n",
       "    <tr>\n",
       "      <th>7</th>\n",
       "      <td>-1.510774</td>\n",
       "      <td>-1.994880</td>\n",
       "      <td>3.690688</td>\n",
       "      <td>-1.281505</td>\n",
       "    </tr>\n",
       "    <tr>\n",
       "      <th>8</th>\n",
       "      <td>-0.680745</td>\n",
       "      <td>-0.549583</td>\n",
       "      <td>-0.369988</td>\n",
       "      <td>-0.680863</td>\n",
       "    </tr>\n",
       "    <tr>\n",
       "      <th>9</th>\n",
       "      <td>-0.562808</td>\n",
       "      <td>-2.118674</td>\n",
       "      <td>-0.804690</td>\n",
       "      <td>-0.726031</td>\n",
       "    </tr>\n",
       "  </tbody>\n",
       "</table>\n",
       "</div>"
      ],
      "text/plain": [
       "          A         B         C         D\n",
       "0  0.000000  0.000000  0.000000  0.000000\n",
       "1 -0.810599 -0.105098  0.788817 -1.577572\n",
       "2 -1.299969 -0.995228  3.127983 -1.282809\n",
       "3 -1.277860 -1.976663  1.095274  0.965473\n",
       "4 -1.364285  0.377218  0.149023 -1.284381\n",
       "5 -0.420542 -0.407881  3.063647 -0.303292\n",
       "6 -2.514870 -1.710879  0.053321  1.132004\n",
       "7 -1.510774 -1.994880  3.690688 -1.281505\n",
       "8 -0.680745 -0.549583 -0.369988 -0.680863\n",
       "9 -0.562808 -2.118674 -0.804690 -0.726031"
      ]
     },
     "execution_count": 68,
     "metadata": {},
     "output_type": "execute_result"
    }
   ],
   "source": [
    "df - df.iloc[0]"
   ]
  },
  {
   "cell_type": "code",
   "execution_count": 69,
   "id": "288d19a1",
   "metadata": {},
   "outputs": [
    {
     "data": {
      "text/html": [
       "<div>\n",
       "<style scoped>\n",
       "    .dataframe tbody tr th:only-of-type {\n",
       "        vertical-align: middle;\n",
       "    }\n",
       "\n",
       "    .dataframe tbody tr th {\n",
       "        vertical-align: top;\n",
       "    }\n",
       "\n",
       "    .dataframe thead th {\n",
       "        text-align: right;\n",
       "    }\n",
       "</style>\n",
       "<table border=\"1\" class=\"dataframe\">\n",
       "  <thead>\n",
       "    <tr style=\"text-align: right;\">\n",
       "      <th></th>\n",
       "      <th>A</th>\n",
       "      <th>B</th>\n",
       "      <th>C</th>\n",
       "      <th>D</th>\n",
       "    </tr>\n",
       "  </thead>\n",
       "  <tbody>\n",
       "    <tr>\n",
       "      <th>0</th>\n",
       "      <td>6.446652</td>\n",
       "      <td>7.371187</td>\n",
       "      <td>-3.202535</td>\n",
       "      <td>3.212898</td>\n",
       "    </tr>\n",
       "    <tr>\n",
       "      <th>1</th>\n",
       "      <td>2.393658</td>\n",
       "      <td>6.845698</td>\n",
       "      <td>0.741550</td>\n",
       "      <td>-4.674962</td>\n",
       "    </tr>\n",
       "    <tr>\n",
       "      <th>2</th>\n",
       "      <td>-0.053191</td>\n",
       "      <td>2.395048</td>\n",
       "      <td>12.437380</td>\n",
       "      <td>-3.201147</td>\n",
       "    </tr>\n",
       "    <tr>\n",
       "      <th>3</th>\n",
       "      <td>0.057353</td>\n",
       "      <td>-2.512130</td>\n",
       "      <td>2.273834</td>\n",
       "      <td>8.040265</td>\n",
       "    </tr>\n",
       "    <tr>\n",
       "      <th>4</th>\n",
       "      <td>-0.374773</td>\n",
       "      <td>9.257277</td>\n",
       "      <td>-2.457420</td>\n",
       "      <td>-3.209010</td>\n",
       "    </tr>\n",
       "    <tr>\n",
       "      <th>5</th>\n",
       "      <td>4.343945</td>\n",
       "      <td>5.331782</td>\n",
       "      <td>12.115699</td>\n",
       "      <td>1.696439</td>\n",
       "    </tr>\n",
       "    <tr>\n",
       "      <th>6</th>\n",
       "      <td>-6.127700</td>\n",
       "      <td>-1.183207</td>\n",
       "      <td>-2.935930</td>\n",
       "      <td>8.872919</td>\n",
       "    </tr>\n",
       "    <tr>\n",
       "      <th>7</th>\n",
       "      <td>-1.107219</td>\n",
       "      <td>-2.603216</td>\n",
       "      <td>15.250907</td>\n",
       "      <td>-3.194628</td>\n",
       "    </tr>\n",
       "    <tr>\n",
       "      <th>8</th>\n",
       "      <td>3.042925</td>\n",
       "      <td>4.623270</td>\n",
       "      <td>-5.052473</td>\n",
       "      <td>-0.191418</td>\n",
       "    </tr>\n",
       "    <tr>\n",
       "      <th>9</th>\n",
       "      <td>3.632613</td>\n",
       "      <td>-3.222183</td>\n",
       "      <td>-7.225986</td>\n",
       "      <td>-0.417258</td>\n",
       "    </tr>\n",
       "  </tbody>\n",
       "</table>\n",
       "</div>"
      ],
      "text/plain": [
       "          A         B          C         D\n",
       "0  6.446652  7.371187  -3.202535  3.212898\n",
       "1  2.393658  6.845698   0.741550 -4.674962\n",
       "2 -0.053191  2.395048  12.437380 -3.201147\n",
       "3  0.057353 -2.512130   2.273834  8.040265\n",
       "4 -0.374773  9.257277  -2.457420 -3.209010\n",
       "5  4.343945  5.331782  12.115699  1.696439\n",
       "6 -6.127700 -1.183207  -2.935930  8.872919\n",
       "7 -1.107219 -2.603216  15.250907 -3.194628\n",
       "8  3.042925  4.623270  -5.052473 -0.191418\n",
       "9  3.632613 -3.222183  -7.225986 -0.417258"
      ]
     },
     "execution_count": 69,
     "metadata": {},
     "output_type": "execute_result"
    }
   ],
   "source": [
    " df * 5 + 2"
   ]
  },
  {
   "cell_type": "code",
   "execution_count": 70,
   "id": "17a81efc",
   "metadata": {},
   "outputs": [
    {
     "data": {
      "text/html": [
       "<div>\n",
       "<style scoped>\n",
       "    .dataframe tbody tr th:only-of-type {\n",
       "        vertical-align: middle;\n",
       "    }\n",
       "\n",
       "    .dataframe tbody tr th {\n",
       "        vertical-align: top;\n",
       "    }\n",
       "\n",
       "    .dataframe thead th {\n",
       "        text-align: right;\n",
       "    }\n",
       "</style>\n",
       "<table border=\"1\" class=\"dataframe\">\n",
       "  <thead>\n",
       "    <tr style=\"text-align: right;\">\n",
       "      <th></th>\n",
       "      <th>A</th>\n",
       "      <th>B</th>\n",
       "      <th>C</th>\n",
       "      <th>D</th>\n",
       "    </tr>\n",
       "  </thead>\n",
       "  <tbody>\n",
       "    <tr>\n",
       "      <th>0</th>\n",
       "      <td>1.124441</td>\n",
       "      <td>0.930893</td>\n",
       "      <td>-0.961070</td>\n",
       "      <td>4.122359</td>\n",
       "    </tr>\n",
       "    <tr>\n",
       "      <th>1</th>\n",
       "      <td>12.701391</td>\n",
       "      <td>1.031843</td>\n",
       "      <td>-3.973141</td>\n",
       "      <td>-0.749068</td>\n",
       "    </tr>\n",
       "    <tr>\n",
       "      <th>2</th>\n",
       "      <td>-2.435234</td>\n",
       "      <td>12.656687</td>\n",
       "      <td>0.479047</td>\n",
       "      <td>-0.961326</td>\n",
       "    </tr>\n",
       "    <tr>\n",
       "      <th>3</th>\n",
       "      <td>-2.573808</td>\n",
       "      <td>-1.108124</td>\n",
       "      <td>18.259221</td>\n",
       "      <td>0.827778</td>\n",
       "    </tr>\n",
       "    <tr>\n",
       "      <th>4</th>\n",
       "      <td>-2.105464</td>\n",
       "      <td>0.688964</td>\n",
       "      <td>-1.121725</td>\n",
       "      <td>-0.959875</td>\n",
       "    </tr>\n",
       "    <tr>\n",
       "      <th>5</th>\n",
       "      <td>2.133156</td>\n",
       "      <td>1.500699</td>\n",
       "      <td>0.494281</td>\n",
       "      <td>-16.471173</td>\n",
       "    </tr>\n",
       "    <tr>\n",
       "      <th>6</th>\n",
       "      <td>-0.615180</td>\n",
       "      <td>-1.570743</td>\n",
       "      <td>-1.012980</td>\n",
       "      <td>0.727493</td>\n",
       "    </tr>\n",
       "    <tr>\n",
       "      <th>7</th>\n",
       "      <td>-1.609156</td>\n",
       "      <td>-1.086197</td>\n",
       "      <td>0.377333</td>\n",
       "      <td>-0.962533</td>\n",
       "    </tr>\n",
       "    <tr>\n",
       "      <th>8</th>\n",
       "      <td>4.794208</td>\n",
       "      <td>1.906018</td>\n",
       "      <td>-0.708971</td>\n",
       "      <td>-2.281628</td>\n",
       "    </tr>\n",
       "    <tr>\n",
       "      <th>9</th>\n",
       "      <td>3.062576</td>\n",
       "      <td>-0.957454</td>\n",
       "      <td>-0.541948</td>\n",
       "      <td>-2.068459</td>\n",
       "    </tr>\n",
       "  </tbody>\n",
       "</table>\n",
       "</div>"
      ],
      "text/plain": [
       "           A          B          C          D\n",
       "0   1.124441   0.930893  -0.961070   4.122359\n",
       "1  12.701391   1.031843  -3.973141  -0.749068\n",
       "2  -2.435234  12.656687   0.479047  -0.961326\n",
       "3  -2.573808  -1.108124  18.259221   0.827778\n",
       "4  -2.105464   0.688964  -1.121725  -0.959875\n",
       "5   2.133156   1.500699   0.494281 -16.471173\n",
       "6  -0.615180  -1.570743  -1.012980   0.727493\n",
       "7  -1.609156  -1.086197   0.377333  -0.962533\n",
       "8   4.794208   1.906018  -0.708971  -2.281628\n",
       "9   3.062576  -0.957454  -0.541948  -2.068459"
      ]
     },
     "execution_count": 70,
     "metadata": {},
     "output_type": "execute_result"
    }
   ],
   "source": [
    "1 / df"
   ]
  },
  {
   "cell_type": "code",
   "execution_count": 71,
   "id": "b1edc1eb",
   "metadata": {},
   "outputs": [
    {
     "data": {
      "text/html": [
       "<div>\n",
       "<style scoped>\n",
       "    .dataframe tbody tr th:only-of-type {\n",
       "        vertical-align: middle;\n",
       "    }\n",
       "\n",
       "    .dataframe tbody tr th {\n",
       "        vertical-align: top;\n",
       "    }\n",
       "\n",
       "    .dataframe thead th {\n",
       "        text-align: right;\n",
       "    }\n",
       "</style>\n",
       "<table border=\"1\" class=\"dataframe\">\n",
       "  <thead>\n",
       "    <tr style=\"text-align: right;\">\n",
       "      <th></th>\n",
       "      <th>A</th>\n",
       "      <th>B</th>\n",
       "      <th>C</th>\n",
       "      <th>D</th>\n",
       "    </tr>\n",
       "  </thead>\n",
       "  <tbody>\n",
       "    <tr>\n",
       "      <th>0</th>\n",
       "      <td>0.625537</td>\n",
       "      <td>1.331683</td>\n",
       "      <td>1.172142</td>\n",
       "      <td>0.003463</td>\n",
       "    </tr>\n",
       "    <tr>\n",
       "      <th>1</th>\n",
       "      <td>0.000038</td>\n",
       "      <td>0.882156</td>\n",
       "      <td>0.004013</td>\n",
       "      <td>3.176254</td>\n",
       "    </tr>\n",
       "    <tr>\n",
       "      <th>2</th>\n",
       "      <td>0.028434</td>\n",
       "      <td>0.000039</td>\n",
       "      <td>18.988295</td>\n",
       "      <td>1.170891</td>\n",
       "    </tr>\n",
       "    <tr>\n",
       "      <th>3</th>\n",
       "      <td>0.022787</td>\n",
       "      <td>0.663203</td>\n",
       "      <td>0.000009</td>\n",
       "      <td>2.129825</td>\n",
       "    </tr>\n",
       "    <tr>\n",
       "      <th>4</th>\n",
       "      <td>0.050887</td>\n",
       "      <td>4.438280</td>\n",
       "      <td>0.631617</td>\n",
       "      <td>1.177987</td>\n",
       "    </tr>\n",
       "    <tr>\n",
       "      <th>5</th>\n",
       "      <td>0.048296</td>\n",
       "      <td>0.197163</td>\n",
       "      <td>16.753426</td>\n",
       "      <td>0.000014</td>\n",
       "    </tr>\n",
       "    <tr>\n",
       "      <th>6</th>\n",
       "      <td>6.982172</td>\n",
       "      <td>0.164278</td>\n",
       "      <td>0.949721</td>\n",
       "      <td>3.570137</td>\n",
       "    </tr>\n",
       "    <tr>\n",
       "      <th>7</th>\n",
       "      <td>0.149145</td>\n",
       "      <td>0.718398</td>\n",
       "      <td>49.329005</td>\n",
       "      <td>1.165032</td>\n",
       "    </tr>\n",
       "    <tr>\n",
       "      <th>8</th>\n",
       "      <td>0.001893</td>\n",
       "      <td>0.075769</td>\n",
       "      <td>3.958091</td>\n",
       "      <td>0.036900</td>\n",
       "    </tr>\n",
       "    <tr>\n",
       "      <th>9</th>\n",
       "      <td>0.011367</td>\n",
       "      <td>1.189949</td>\n",
       "      <td>11.592339</td>\n",
       "      <td>0.054628</td>\n",
       "    </tr>\n",
       "  </tbody>\n",
       "</table>\n",
       "</div>"
      ],
      "text/plain": [
       "          A         B          C         D\n",
       "0  0.625537  1.331683   1.172142  0.003463\n",
       "1  0.000038  0.882156   0.004013  3.176254\n",
       "2  0.028434  0.000039  18.988295  1.170891\n",
       "3  0.022787  0.663203   0.000009  2.129825\n",
       "4  0.050887  4.438280   0.631617  1.177987\n",
       "5  0.048296  0.197163  16.753426  0.000014\n",
       "6  6.982172  0.164278   0.949721  3.570137\n",
       "7  0.149145  0.718398  49.329005  1.165032\n",
       "8  0.001893  0.075769   3.958091  0.036900\n",
       "9  0.011367  1.189949  11.592339  0.054628"
      ]
     },
     "execution_count": 71,
     "metadata": {},
     "output_type": "execute_result"
    }
   ],
   "source": [
    "df ** 4"
   ]
  },
  {
   "cell_type": "code",
   "execution_count": 72,
   "id": "927fb852",
   "metadata": {},
   "outputs": [
    {
     "data": {
      "text/html": [
       "<div>\n",
       "<style scoped>\n",
       "    .dataframe tbody tr th:only-of-type {\n",
       "        vertical-align: middle;\n",
       "    }\n",
       "\n",
       "    .dataframe tbody tr th {\n",
       "        vertical-align: top;\n",
       "    }\n",
       "\n",
       "    .dataframe thead th {\n",
       "        text-align: right;\n",
       "    }\n",
       "</style>\n",
       "<table border=\"1\" class=\"dataframe\">\n",
       "  <thead>\n",
       "    <tr style=\"text-align: right;\">\n",
       "      <th></th>\n",
       "      <th>a</th>\n",
       "      <th>b</th>\n",
       "    </tr>\n",
       "  </thead>\n",
       "  <tbody>\n",
       "    <tr>\n",
       "      <th>0</th>\n",
       "      <td>False</td>\n",
       "      <td>True</td>\n",
       "    </tr>\n",
       "    <tr>\n",
       "      <th>1</th>\n",
       "      <td>True</td>\n",
       "      <td>True</td>\n",
       "    </tr>\n",
       "    <tr>\n",
       "      <th>2</th>\n",
       "      <td>True</td>\n",
       "      <td>False</td>\n",
       "    </tr>\n",
       "  </tbody>\n",
       "</table>\n",
       "</div>"
      ],
      "text/plain": [
       "       a      b\n",
       "0  False   True\n",
       "1   True   True\n",
       "2   True  False"
      ]
     },
     "execution_count": 72,
     "metadata": {},
     "output_type": "execute_result"
    }
   ],
   "source": [
    "df1 = pd.DataFrame({'a' : [1, 0, 1], 'b' : [0, 1, 1] }, dtype=bool)\n",
    "df2 = pd.DataFrame({'a' : [0, 1, 1], 'b' : [1, 1, 0] }, dtype=bool)\n",
    "pd.DataFrame({'a' : [0, 1, 1], 'b' : [1, 1, 0] }, dtype=bool)"
   ]
  },
  {
   "cell_type": "code",
   "execution_count": 73,
   "id": "79948e88",
   "metadata": {},
   "outputs": [
    {
     "data": {
      "text/html": [
       "<div>\n",
       "<style scoped>\n",
       "    .dataframe tbody tr th:only-of-type {\n",
       "        vertical-align: middle;\n",
       "    }\n",
       "\n",
       "    .dataframe tbody tr th {\n",
       "        vertical-align: top;\n",
       "    }\n",
       "\n",
       "    .dataframe thead th {\n",
       "        text-align: right;\n",
       "    }\n",
       "</style>\n",
       "<table border=\"1\" class=\"dataframe\">\n",
       "  <thead>\n",
       "    <tr style=\"text-align: right;\">\n",
       "      <th></th>\n",
       "      <th>a</th>\n",
       "      <th>b</th>\n",
       "    </tr>\n",
       "  </thead>\n",
       "  <tbody>\n",
       "    <tr>\n",
       "      <th>0</th>\n",
       "      <td>False</td>\n",
       "      <td>False</td>\n",
       "    </tr>\n",
       "    <tr>\n",
       "      <th>1</th>\n",
       "      <td>False</td>\n",
       "      <td>True</td>\n",
       "    </tr>\n",
       "    <tr>\n",
       "      <th>2</th>\n",
       "      <td>True</td>\n",
       "      <td>False</td>\n",
       "    </tr>\n",
       "  </tbody>\n",
       "</table>\n",
       "</div>"
      ],
      "text/plain": [
       "       a      b\n",
       "0  False  False\n",
       "1  False   True\n",
       "2   True  False"
      ]
     },
     "execution_count": 73,
     "metadata": {},
     "output_type": "execute_result"
    }
   ],
   "source": [
    " df1 & df2"
   ]
  },
  {
   "cell_type": "code",
   "execution_count": 74,
   "id": "d5ac9df1",
   "metadata": {},
   "outputs": [
    {
     "data": {
      "text/html": [
       "<div>\n",
       "<style scoped>\n",
       "    .dataframe tbody tr th:only-of-type {\n",
       "        vertical-align: middle;\n",
       "    }\n",
       "\n",
       "    .dataframe tbody tr th {\n",
       "        vertical-align: top;\n",
       "    }\n",
       "\n",
       "    .dataframe thead th {\n",
       "        text-align: right;\n",
       "    }\n",
       "</style>\n",
       "<table border=\"1\" class=\"dataframe\">\n",
       "  <thead>\n",
       "    <tr style=\"text-align: right;\">\n",
       "      <th></th>\n",
       "      <th>a</th>\n",
       "      <th>b</th>\n",
       "    </tr>\n",
       "  </thead>\n",
       "  <tbody>\n",
       "    <tr>\n",
       "      <th>0</th>\n",
       "      <td>True</td>\n",
       "      <td>True</td>\n",
       "    </tr>\n",
       "    <tr>\n",
       "      <th>1</th>\n",
       "      <td>True</td>\n",
       "      <td>True</td>\n",
       "    </tr>\n",
       "    <tr>\n",
       "      <th>2</th>\n",
       "      <td>True</td>\n",
       "      <td>True</td>\n",
       "    </tr>\n",
       "  </tbody>\n",
       "</table>\n",
       "</div>"
      ],
      "text/plain": [
       "      a     b\n",
       "0  True  True\n",
       "1  True  True\n",
       "2  True  True"
      ]
     },
     "execution_count": 74,
     "metadata": {},
     "output_type": "execute_result"
    }
   ],
   "source": [
    "df1 | df2"
   ]
  },
  {
   "cell_type": "code",
   "execution_count": 75,
   "id": "2ec55c4e",
   "metadata": {},
   "outputs": [
    {
     "data": {
      "text/html": [
       "<div>\n",
       "<style scoped>\n",
       "    .dataframe tbody tr th:only-of-type {\n",
       "        vertical-align: middle;\n",
       "    }\n",
       "\n",
       "    .dataframe tbody tr th {\n",
       "        vertical-align: top;\n",
       "    }\n",
       "\n",
       "    .dataframe thead th {\n",
       "        text-align: right;\n",
       "    }\n",
       "</style>\n",
       "<table border=\"1\" class=\"dataframe\">\n",
       "  <thead>\n",
       "    <tr style=\"text-align: right;\">\n",
       "      <th></th>\n",
       "      <th>a</th>\n",
       "      <th>b</th>\n",
       "    </tr>\n",
       "  </thead>\n",
       "  <tbody>\n",
       "    <tr>\n",
       "      <th>0</th>\n",
       "      <td>False</td>\n",
       "      <td>True</td>\n",
       "    </tr>\n",
       "    <tr>\n",
       "      <th>1</th>\n",
       "      <td>True</td>\n",
       "      <td>False</td>\n",
       "    </tr>\n",
       "    <tr>\n",
       "      <th>2</th>\n",
       "      <td>False</td>\n",
       "      <td>False</td>\n",
       "    </tr>\n",
       "  </tbody>\n",
       "</table>\n",
       "</div>"
      ],
      "text/plain": [
       "       a      b\n",
       "0  False   True\n",
       "1   True  False\n",
       "2  False  False"
      ]
     },
     "execution_count": 75,
     "metadata": {},
     "output_type": "execute_result"
    }
   ],
   "source": [
    " -df1\n"
   ]
  },
  {
   "cell_type": "markdown",
   "id": "567ca01b",
   "metadata": {},
   "source": [
    "**11.9 Transposing:**\n",
    "-  To transpose, access the T attribute (also the transpose function), similar to an ndarray"
   ]
  },
  {
   "cell_type": "code",
   "execution_count": 76,
   "id": "311c03fa",
   "metadata": {},
   "outputs": [
    {
     "data": {
      "text/html": [
       "<div>\n",
       "<style scoped>\n",
       "    .dataframe tbody tr th:only-of-type {\n",
       "        vertical-align: middle;\n",
       "    }\n",
       "\n",
       "    .dataframe tbody tr th {\n",
       "        vertical-align: top;\n",
       "    }\n",
       "\n",
       "    .dataframe thead th {\n",
       "        text-align: right;\n",
       "    }\n",
       "</style>\n",
       "<table border=\"1\" class=\"dataframe\">\n",
       "  <thead>\n",
       "    <tr style=\"text-align: right;\">\n",
       "      <th></th>\n",
       "      <th>0</th>\n",
       "      <th>1</th>\n",
       "      <th>2</th>\n",
       "      <th>3</th>\n",
       "      <th>4</th>\n",
       "    </tr>\n",
       "  </thead>\n",
       "  <tbody>\n",
       "    <tr>\n",
       "      <th>A</th>\n",
       "      <td>0.889330</td>\n",
       "      <td>0.078732</td>\n",
       "      <td>-0.410638</td>\n",
       "      <td>-0.388529</td>\n",
       "      <td>-0.474955</td>\n",
       "    </tr>\n",
       "    <tr>\n",
       "      <th>B</th>\n",
       "      <td>1.074237</td>\n",
       "      <td>0.969140</td>\n",
       "      <td>0.079010</td>\n",
       "      <td>-0.902426</td>\n",
       "      <td>1.451455</td>\n",
       "    </tr>\n",
       "    <tr>\n",
       "      <th>C</th>\n",
       "      <td>-1.040507</td>\n",
       "      <td>-0.251690</td>\n",
       "      <td>2.087476</td>\n",
       "      <td>0.054767</td>\n",
       "      <td>-0.891484</td>\n",
       "    </tr>\n",
       "    <tr>\n",
       "      <th>D</th>\n",
       "      <td>0.242580</td>\n",
       "      <td>-1.334992</td>\n",
       "      <td>-1.040229</td>\n",
       "      <td>1.208053</td>\n",
       "      <td>-1.041802</td>\n",
       "    </tr>\n",
       "  </tbody>\n",
       "</table>\n",
       "</div>"
      ],
      "text/plain": [
       "          0         1         2         3         4\n",
       "A  0.889330  0.078732 -0.410638 -0.388529 -0.474955\n",
       "B  1.074237  0.969140  0.079010 -0.902426  1.451455\n",
       "C -1.040507 -0.251690  2.087476  0.054767 -0.891484\n",
       "D  0.242580 -1.334992 -1.040229  1.208053 -1.041802"
      ]
     },
     "execution_count": 76,
     "metadata": {},
     "output_type": "execute_result"
    }
   ],
   "source": [
    "df[:5].T"
   ]
  },
  {
   "cell_type": "code",
   "execution_count": 77,
   "id": "5b1ced4f",
   "metadata": {},
   "outputs": [],
   "source": [
    "df2 = pd.DataFrame({ 'A' : 1.,\n",
    " 'B' : pd.Timestamp('20130102'),\n",
    " 'C' : pd.Series(1,index=list(range(4)),dtype='float32'),\n",
    " 'D' : np.array([3] * 4,dtype='int32'),\n",
    " 'E' : pd.Categorical([\"test\",\"train\",\"test\",\"train\"]),\n",
    " 'F' : 'foo' })"
   ]
  },
  {
   "cell_type": "code",
   "execution_count": 78,
   "id": "bda08376",
   "metadata": {},
   "outputs": [
    {
     "data": {
      "text/html": [
       "<div>\n",
       "<style scoped>\n",
       "    .dataframe tbody tr th:only-of-type {\n",
       "        vertical-align: middle;\n",
       "    }\n",
       "\n",
       "    .dataframe tbody tr th {\n",
       "        vertical-align: top;\n",
       "    }\n",
       "\n",
       "    .dataframe thead th {\n",
       "        text-align: right;\n",
       "    }\n",
       "</style>\n",
       "<table border=\"1\" class=\"dataframe\">\n",
       "  <thead>\n",
       "    <tr style=\"text-align: right;\">\n",
       "      <th></th>\n",
       "      <th>A</th>\n",
       "      <th>B</th>\n",
       "      <th>C</th>\n",
       "      <th>D</th>\n",
       "      <th>E</th>\n",
       "      <th>F</th>\n",
       "    </tr>\n",
       "  </thead>\n",
       "  <tbody>\n",
       "    <tr>\n",
       "      <th>0</th>\n",
       "      <td>1.0</td>\n",
       "      <td>2013-01-02</td>\n",
       "      <td>1.0</td>\n",
       "      <td>3</td>\n",
       "      <td>test</td>\n",
       "      <td>foo</td>\n",
       "    </tr>\n",
       "    <tr>\n",
       "      <th>1</th>\n",
       "      <td>1.0</td>\n",
       "      <td>2013-01-02</td>\n",
       "      <td>1.0</td>\n",
       "      <td>3</td>\n",
       "      <td>train</td>\n",
       "      <td>foo</td>\n",
       "    </tr>\n",
       "    <tr>\n",
       "      <th>2</th>\n",
       "      <td>1.0</td>\n",
       "      <td>2013-01-02</td>\n",
       "      <td>1.0</td>\n",
       "      <td>3</td>\n",
       "      <td>test</td>\n",
       "      <td>foo</td>\n",
       "    </tr>\n",
       "    <tr>\n",
       "      <th>3</th>\n",
       "      <td>1.0</td>\n",
       "      <td>2013-01-02</td>\n",
       "      <td>1.0</td>\n",
       "      <td>3</td>\n",
       "      <td>train</td>\n",
       "      <td>foo</td>\n",
       "    </tr>\n",
       "  </tbody>\n",
       "</table>\n",
       "</div>"
      ],
      "text/plain": [
       "     A          B    C  D      E    F\n",
       "0  1.0 2013-01-02  1.0  3   test  foo\n",
       "1  1.0 2013-01-02  1.0  3  train  foo\n",
       "2  1.0 2013-01-02  1.0  3   test  foo\n",
       "3  1.0 2013-01-02  1.0  3  train  foo"
      ]
     },
     "execution_count": 78,
     "metadata": {},
     "output_type": "execute_result"
    }
   ],
   "source": [
    "df2"
   ]
  },
  {
   "cell_type": "code",
   "execution_count": 79,
   "id": "4e4974fa",
   "metadata": {},
   "outputs": [
    {
     "data": {
      "text/plain": [
       "A           float64\n",
       "B    datetime64[ns]\n",
       "C           float32\n",
       "D             int32\n",
       "E          category\n",
       "F            object\n",
       "dtype: object"
      ]
     },
     "execution_count": 79,
     "metadata": {},
     "output_type": "execute_result"
    }
   ],
   "source": [
    "df2.dtypes\n"
   ]
  },
  {
   "cell_type": "markdown",
   "id": "c32ce10c",
   "metadata": {},
   "source": [
    "**12. Viewing Data:**\n",
    "- We can view data / display data in different ways:\n",
    "- See the top & bottom rows of the frame\n",
    "- Selecting a single column\n",
    "- Selecting via [], which slices the rows\n",
    "- For getting a cross section using a label\n",
    "- Selecting on a multi-axis by labe\n",
    "- Showing label slicing, both endpoints are included\n",
    "- Reduction in the dimensions of the returned object\n",
    "- For getting a scalar value\n",
    "- For getting fast access to a scalar\n",
    "- Select via the position of the passed integers\n",
    "- By integer slices, acting similar to numpy/python\n",
    "- By lists of integer position locations, similar to the numpy/python style\n",
    "- For slicing rows explicitly\n",
    "- For slicing columns explicitly\n",
    "- For getting a value explicitly\n",
    "- For getting fast access to a scalar\n",
    "- Using a single column’s values to select data.\n",
    "- Selecting values from a DataFrame where a boolean condition is met.\n",
    "- Using the isin() method for filtering"
   ]
  },
  {
   "cell_type": "code",
   "execution_count": 80,
   "id": "e13aadb2",
   "metadata": {},
   "outputs": [
    {
     "data": {
      "text/html": [
       "<div>\n",
       "<style scoped>\n",
       "    .dataframe tbody tr th:only-of-type {\n",
       "        vertical-align: middle;\n",
       "    }\n",
       "\n",
       "    .dataframe tbody tr th {\n",
       "        vertical-align: top;\n",
       "    }\n",
       "\n",
       "    .dataframe thead th {\n",
       "        text-align: right;\n",
       "    }\n",
       "</style>\n",
       "<table border=\"1\" class=\"dataframe\">\n",
       "  <thead>\n",
       "    <tr style=\"text-align: right;\">\n",
       "      <th></th>\n",
       "      <th>A</th>\n",
       "      <th>B</th>\n",
       "      <th>C</th>\n",
       "      <th>D</th>\n",
       "    </tr>\n",
       "  </thead>\n",
       "  <tbody>\n",
       "    <tr>\n",
       "      <th>0</th>\n",
       "      <td>0.889330</td>\n",
       "      <td>1.074237</td>\n",
       "      <td>-1.040507</td>\n",
       "      <td>0.242580</td>\n",
       "    </tr>\n",
       "    <tr>\n",
       "      <th>1</th>\n",
       "      <td>0.078732</td>\n",
       "      <td>0.969140</td>\n",
       "      <td>-0.251690</td>\n",
       "      <td>-1.334992</td>\n",
       "    </tr>\n",
       "    <tr>\n",
       "      <th>2</th>\n",
       "      <td>-0.410638</td>\n",
       "      <td>0.079010</td>\n",
       "      <td>2.087476</td>\n",
       "      <td>-1.040229</td>\n",
       "    </tr>\n",
       "    <tr>\n",
       "      <th>3</th>\n",
       "      <td>-0.388529</td>\n",
       "      <td>-0.902426</td>\n",
       "      <td>0.054767</td>\n",
       "      <td>1.208053</td>\n",
       "    </tr>\n",
       "    <tr>\n",
       "      <th>4</th>\n",
       "      <td>-0.474955</td>\n",
       "      <td>1.451455</td>\n",
       "      <td>-0.891484</td>\n",
       "      <td>-1.041802</td>\n",
       "    </tr>\n",
       "  </tbody>\n",
       "</table>\n",
       "</div>"
      ],
      "text/plain": [
       "          A         B         C         D\n",
       "0  0.889330  1.074237 -1.040507  0.242580\n",
       "1  0.078732  0.969140 -0.251690 -1.334992\n",
       "2 -0.410638  0.079010  2.087476 -1.040229\n",
       "3 -0.388529 -0.902426  0.054767  1.208053\n",
       "4 -0.474955  1.451455 -0.891484 -1.041802"
      ]
     },
     "execution_count": 80,
     "metadata": {},
     "output_type": "execute_result"
    }
   ],
   "source": [
    " df.head()"
   ]
  },
  {
   "cell_type": "code",
   "execution_count": 81,
   "id": "a9681ebb",
   "metadata": {},
   "outputs": [
    {
     "data": {
      "text/html": [
       "<div>\n",
       "<style scoped>\n",
       "    .dataframe tbody tr th:only-of-type {\n",
       "        vertical-align: middle;\n",
       "    }\n",
       "\n",
       "    .dataframe tbody tr th {\n",
       "        vertical-align: top;\n",
       "    }\n",
       "\n",
       "    .dataframe thead th {\n",
       "        text-align: right;\n",
       "    }\n",
       "</style>\n",
       "<table border=\"1\" class=\"dataframe\">\n",
       "  <thead>\n",
       "    <tr style=\"text-align: right;\">\n",
       "      <th></th>\n",
       "      <th>A</th>\n",
       "      <th>B</th>\n",
       "      <th>C</th>\n",
       "      <th>D</th>\n",
       "    </tr>\n",
       "  </thead>\n",
       "  <tbody>\n",
       "    <tr>\n",
       "      <th>7</th>\n",
       "      <td>-0.621444</td>\n",
       "      <td>-0.920643</td>\n",
       "      <td>2.650181</td>\n",
       "      <td>-1.038926</td>\n",
       "    </tr>\n",
       "    <tr>\n",
       "      <th>8</th>\n",
       "      <td>0.208585</td>\n",
       "      <td>0.524654</td>\n",
       "      <td>-1.410495</td>\n",
       "      <td>-0.438284</td>\n",
       "    </tr>\n",
       "    <tr>\n",
       "      <th>9</th>\n",
       "      <td>0.326523</td>\n",
       "      <td>-1.044437</td>\n",
       "      <td>-1.845197</td>\n",
       "      <td>-0.483452</td>\n",
       "    </tr>\n",
       "  </tbody>\n",
       "</table>\n",
       "</div>"
      ],
      "text/plain": [
       "          A         B         C         D\n",
       "7 -0.621444 -0.920643  2.650181 -1.038926\n",
       "8  0.208585  0.524654 -1.410495 -0.438284\n",
       "9  0.326523 -1.044437 -1.845197 -0.483452"
      ]
     },
     "execution_count": 81,
     "metadata": {},
     "output_type": "execute_result"
    }
   ],
   "source": [
    " df.tail(3)"
   ]
  },
  {
   "cell_type": "code",
   "execution_count": 82,
   "id": "99dcd2e1",
   "metadata": {},
   "outputs": [
    {
     "data": {
      "text/plain": [
       "Index(['A', 'B', 'C', 'D'], dtype='object')"
      ]
     },
     "execution_count": 82,
     "metadata": {},
     "output_type": "execute_result"
    }
   ],
   "source": [
    "df.columns"
   ]
  },
  {
   "cell_type": "code",
   "execution_count": 83,
   "id": "486c53b3",
   "metadata": {},
   "outputs": [
    {
     "data": {
      "text/plain": [
       "array([[ 0.88933049,  1.07423732, -1.04050708,  0.24257952],\n",
       "       [ 0.07873153,  0.96913958, -0.25169005, -1.33499241],\n",
       "       [-0.41063815,  0.07900962,  2.08747601, -1.04022934],\n",
       "       [-0.38852932, -0.90242602,  0.05476685,  1.20805302],\n",
       "       [-0.47495463,  1.45145536, -0.89148396, -1.04180192],\n",
       "       [ 0.46878894,  0.66635631,  2.02313986, -0.06071213],\n",
       "       [-1.62553993, -0.63664132, -0.98718606,  1.37458381],\n",
       "       [-0.62144376, -0.92064316,  2.65018132, -1.03892553],\n",
       "       [ 0.20858503,  0.52465403, -1.41049465, -0.43828353],\n",
       "       [ 0.32652251, -1.04443661, -1.84519711, -0.48345159]])"
      ]
     },
     "execution_count": 83,
     "metadata": {},
     "output_type": "execute_result"
    }
   ],
   "source": [
    "df.values"
   ]
  },
  {
   "cell_type": "code",
   "execution_count": 84,
   "id": "bc059abf",
   "metadata": {},
   "outputs": [
    {
     "data": {
      "text/html": [
       "<div>\n",
       "<style scoped>\n",
       "    .dataframe tbody tr th:only-of-type {\n",
       "        vertical-align: middle;\n",
       "    }\n",
       "\n",
       "    .dataframe tbody tr th {\n",
       "        vertical-align: top;\n",
       "    }\n",
       "\n",
       "    .dataframe thead th {\n",
       "        text-align: right;\n",
       "    }\n",
       "</style>\n",
       "<table border=\"1\" class=\"dataframe\">\n",
       "  <thead>\n",
       "    <tr style=\"text-align: right;\">\n",
       "      <th></th>\n",
       "      <th>D</th>\n",
       "      <th>C</th>\n",
       "      <th>B</th>\n",
       "      <th>A</th>\n",
       "    </tr>\n",
       "  </thead>\n",
       "  <tbody>\n",
       "    <tr>\n",
       "      <th>0</th>\n",
       "      <td>0.242580</td>\n",
       "      <td>-1.040507</td>\n",
       "      <td>1.074237</td>\n",
       "      <td>0.889330</td>\n",
       "    </tr>\n",
       "    <tr>\n",
       "      <th>1</th>\n",
       "      <td>-1.334992</td>\n",
       "      <td>-0.251690</td>\n",
       "      <td>0.969140</td>\n",
       "      <td>0.078732</td>\n",
       "    </tr>\n",
       "    <tr>\n",
       "      <th>2</th>\n",
       "      <td>-1.040229</td>\n",
       "      <td>2.087476</td>\n",
       "      <td>0.079010</td>\n",
       "      <td>-0.410638</td>\n",
       "    </tr>\n",
       "    <tr>\n",
       "      <th>3</th>\n",
       "      <td>1.208053</td>\n",
       "      <td>0.054767</td>\n",
       "      <td>-0.902426</td>\n",
       "      <td>-0.388529</td>\n",
       "    </tr>\n",
       "    <tr>\n",
       "      <th>4</th>\n",
       "      <td>-1.041802</td>\n",
       "      <td>-0.891484</td>\n",
       "      <td>1.451455</td>\n",
       "      <td>-0.474955</td>\n",
       "    </tr>\n",
       "    <tr>\n",
       "      <th>5</th>\n",
       "      <td>-0.060712</td>\n",
       "      <td>2.023140</td>\n",
       "      <td>0.666356</td>\n",
       "      <td>0.468789</td>\n",
       "    </tr>\n",
       "    <tr>\n",
       "      <th>6</th>\n",
       "      <td>1.374584</td>\n",
       "      <td>-0.987186</td>\n",
       "      <td>-0.636641</td>\n",
       "      <td>-1.625540</td>\n",
       "    </tr>\n",
       "    <tr>\n",
       "      <th>7</th>\n",
       "      <td>-1.038926</td>\n",
       "      <td>2.650181</td>\n",
       "      <td>-0.920643</td>\n",
       "      <td>-0.621444</td>\n",
       "    </tr>\n",
       "    <tr>\n",
       "      <th>8</th>\n",
       "      <td>-0.438284</td>\n",
       "      <td>-1.410495</td>\n",
       "      <td>0.524654</td>\n",
       "      <td>0.208585</td>\n",
       "    </tr>\n",
       "    <tr>\n",
       "      <th>9</th>\n",
       "      <td>-0.483452</td>\n",
       "      <td>-1.845197</td>\n",
       "      <td>-1.044437</td>\n",
       "      <td>0.326523</td>\n",
       "    </tr>\n",
       "  </tbody>\n",
       "</table>\n",
       "</div>"
      ],
      "text/plain": [
       "          D         C         B         A\n",
       "0  0.242580 -1.040507  1.074237  0.889330\n",
       "1 -1.334992 -0.251690  0.969140  0.078732\n",
       "2 -1.040229  2.087476  0.079010 -0.410638\n",
       "3  1.208053  0.054767 -0.902426 -0.388529\n",
       "4 -1.041802 -0.891484  1.451455 -0.474955\n",
       "5 -0.060712  2.023140  0.666356  0.468789\n",
       "6  1.374584 -0.987186 -0.636641 -1.625540\n",
       "7 -1.038926  2.650181 -0.920643 -0.621444\n",
       "8 -0.438284 -1.410495  0.524654  0.208585\n",
       "9 -0.483452 -1.845197 -1.044437  0.326523"
      ]
     },
     "execution_count": 84,
     "metadata": {},
     "output_type": "execute_result"
    }
   ],
   "source": [
    "df.sort_index(axis=1, ascending=False)"
   ]
  },
  {
   "cell_type": "code",
   "execution_count": 85,
   "id": "4b946543",
   "metadata": {},
   "outputs": [
    {
     "data": {
      "text/html": [
       "<div>\n",
       "<style scoped>\n",
       "    .dataframe tbody tr th:only-of-type {\n",
       "        vertical-align: middle;\n",
       "    }\n",
       "\n",
       "    .dataframe tbody tr th {\n",
       "        vertical-align: top;\n",
       "    }\n",
       "\n",
       "    .dataframe thead th {\n",
       "        text-align: right;\n",
       "    }\n",
       "</style>\n",
       "<table border=\"1\" class=\"dataframe\">\n",
       "  <thead>\n",
       "    <tr style=\"text-align: right;\">\n",
       "      <th></th>\n",
       "      <th>A</th>\n",
       "      <th>B</th>\n",
       "      <th>C</th>\n",
       "      <th>D</th>\n",
       "    </tr>\n",
       "  </thead>\n",
       "  <tbody>\n",
       "    <tr>\n",
       "      <th>9</th>\n",
       "      <td>0.326523</td>\n",
       "      <td>-1.044437</td>\n",
       "      <td>-1.845197</td>\n",
       "      <td>-0.483452</td>\n",
       "    </tr>\n",
       "    <tr>\n",
       "      <th>7</th>\n",
       "      <td>-0.621444</td>\n",
       "      <td>-0.920643</td>\n",
       "      <td>2.650181</td>\n",
       "      <td>-1.038926</td>\n",
       "    </tr>\n",
       "    <tr>\n",
       "      <th>3</th>\n",
       "      <td>-0.388529</td>\n",
       "      <td>-0.902426</td>\n",
       "      <td>0.054767</td>\n",
       "      <td>1.208053</td>\n",
       "    </tr>\n",
       "    <tr>\n",
       "      <th>6</th>\n",
       "      <td>-1.625540</td>\n",
       "      <td>-0.636641</td>\n",
       "      <td>-0.987186</td>\n",
       "      <td>1.374584</td>\n",
       "    </tr>\n",
       "    <tr>\n",
       "      <th>2</th>\n",
       "      <td>-0.410638</td>\n",
       "      <td>0.079010</td>\n",
       "      <td>2.087476</td>\n",
       "      <td>-1.040229</td>\n",
       "    </tr>\n",
       "    <tr>\n",
       "      <th>8</th>\n",
       "      <td>0.208585</td>\n",
       "      <td>0.524654</td>\n",
       "      <td>-1.410495</td>\n",
       "      <td>-0.438284</td>\n",
       "    </tr>\n",
       "    <tr>\n",
       "      <th>5</th>\n",
       "      <td>0.468789</td>\n",
       "      <td>0.666356</td>\n",
       "      <td>2.023140</td>\n",
       "      <td>-0.060712</td>\n",
       "    </tr>\n",
       "    <tr>\n",
       "      <th>1</th>\n",
       "      <td>0.078732</td>\n",
       "      <td>0.969140</td>\n",
       "      <td>-0.251690</td>\n",
       "      <td>-1.334992</td>\n",
       "    </tr>\n",
       "    <tr>\n",
       "      <th>0</th>\n",
       "      <td>0.889330</td>\n",
       "      <td>1.074237</td>\n",
       "      <td>-1.040507</td>\n",
       "      <td>0.242580</td>\n",
       "    </tr>\n",
       "    <tr>\n",
       "      <th>4</th>\n",
       "      <td>-0.474955</td>\n",
       "      <td>1.451455</td>\n",
       "      <td>-0.891484</td>\n",
       "      <td>-1.041802</td>\n",
       "    </tr>\n",
       "  </tbody>\n",
       "</table>\n",
       "</div>"
      ],
      "text/plain": [
       "          A         B         C         D\n",
       "9  0.326523 -1.044437 -1.845197 -0.483452\n",
       "7 -0.621444 -0.920643  2.650181 -1.038926\n",
       "3 -0.388529 -0.902426  0.054767  1.208053\n",
       "6 -1.625540 -0.636641 -0.987186  1.374584\n",
       "2 -0.410638  0.079010  2.087476 -1.040229\n",
       "8  0.208585  0.524654 -1.410495 -0.438284\n",
       "5  0.468789  0.666356  2.023140 -0.060712\n",
       "1  0.078732  0.969140 -0.251690 -1.334992\n",
       "0  0.889330  1.074237 -1.040507  0.242580\n",
       "4 -0.474955  1.451455 -0.891484 -1.041802"
      ]
     },
     "execution_count": 85,
     "metadata": {},
     "output_type": "execute_result"
    }
   ],
   "source": [
    "df.sort_values(by='B')"
   ]
  },
  {
   "cell_type": "code",
   "execution_count": 86,
   "id": "7ac9e5b9",
   "metadata": {},
   "outputs": [
    {
     "data": {
      "text/plain": [
       "0    0.889330\n",
       "1    0.078732\n",
       "2   -0.410638\n",
       "3   -0.388529\n",
       "4   -0.474955\n",
       "5    0.468789\n",
       "6   -1.625540\n",
       "7   -0.621444\n",
       "8    0.208585\n",
       "9    0.326523\n",
       "Name: A, dtype: float64"
      ]
     },
     "execution_count": 86,
     "metadata": {},
     "output_type": "execute_result"
    }
   ],
   "source": [
    "df['A']\n"
   ]
  },
  {
   "cell_type": "code",
   "execution_count": 88,
   "id": "1b2d7480",
   "metadata": {},
   "outputs": [
    {
     "data": {
      "text/html": [
       "<div>\n",
       "<style scoped>\n",
       "    .dataframe tbody tr th:only-of-type {\n",
       "        vertical-align: middle;\n",
       "    }\n",
       "\n",
       "    .dataframe tbody tr th {\n",
       "        vertical-align: top;\n",
       "    }\n",
       "\n",
       "    .dataframe thead th {\n",
       "        text-align: right;\n",
       "    }\n",
       "</style>\n",
       "<table border=\"1\" class=\"dataframe\">\n",
       "  <thead>\n",
       "    <tr style=\"text-align: right;\">\n",
       "      <th></th>\n",
       "      <th>A</th>\n",
       "      <th>B</th>\n",
       "    </tr>\n",
       "  </thead>\n",
       "  <tbody>\n",
       "    <tr>\n",
       "      <th>0</th>\n",
       "      <td>0.889330</td>\n",
       "      <td>1.074237</td>\n",
       "    </tr>\n",
       "    <tr>\n",
       "      <th>1</th>\n",
       "      <td>0.078732</td>\n",
       "      <td>0.969140</td>\n",
       "    </tr>\n",
       "    <tr>\n",
       "      <th>2</th>\n",
       "      <td>-0.410638</td>\n",
       "      <td>0.079010</td>\n",
       "    </tr>\n",
       "    <tr>\n",
       "      <th>3</th>\n",
       "      <td>-0.388529</td>\n",
       "      <td>-0.902426</td>\n",
       "    </tr>\n",
       "    <tr>\n",
       "      <th>4</th>\n",
       "      <td>-0.474955</td>\n",
       "      <td>1.451455</td>\n",
       "    </tr>\n",
       "    <tr>\n",
       "      <th>5</th>\n",
       "      <td>0.468789</td>\n",
       "      <td>0.666356</td>\n",
       "    </tr>\n",
       "    <tr>\n",
       "      <th>6</th>\n",
       "      <td>-1.625540</td>\n",
       "      <td>-0.636641</td>\n",
       "    </tr>\n",
       "    <tr>\n",
       "      <th>7</th>\n",
       "      <td>-0.621444</td>\n",
       "      <td>-0.920643</td>\n",
       "    </tr>\n",
       "    <tr>\n",
       "      <th>8</th>\n",
       "      <td>0.208585</td>\n",
       "      <td>0.524654</td>\n",
       "    </tr>\n",
       "    <tr>\n",
       "      <th>9</th>\n",
       "      <td>0.326523</td>\n",
       "      <td>-1.044437</td>\n",
       "    </tr>\n",
       "  </tbody>\n",
       "</table>\n",
       "</div>"
      ],
      "text/plain": [
       "          A         B\n",
       "0  0.889330  1.074237\n",
       "1  0.078732  0.969140\n",
       "2 -0.410638  0.079010\n",
       "3 -0.388529 -0.902426\n",
       "4 -0.474955  1.451455\n",
       "5  0.468789  0.666356\n",
       "6 -1.625540 -0.636641\n",
       "7 -0.621444 -0.920643\n",
       "8  0.208585  0.524654\n",
       "9  0.326523 -1.044437"
      ]
     },
     "execution_count": 88,
     "metadata": {},
     "output_type": "execute_result"
    }
   ],
   "source": [
    "df.loc[:,['A','B']]\n"
   ]
  },
  {
   "cell_type": "code",
   "execution_count": 90,
   "id": "1f30f8c5",
   "metadata": {},
   "outputs": [
    {
     "data": {
      "text/html": [
       "<div>\n",
       "<style scoped>\n",
       "    .dataframe tbody tr th:only-of-type {\n",
       "        vertical-align: middle;\n",
       "    }\n",
       "\n",
       "    .dataframe tbody tr th {\n",
       "        vertical-align: top;\n",
       "    }\n",
       "\n",
       "    .dataframe thead th {\n",
       "        text-align: right;\n",
       "    }\n",
       "</style>\n",
       "<table border=\"1\" class=\"dataframe\">\n",
       "  <thead>\n",
       "    <tr style=\"text-align: right;\">\n",
       "      <th></th>\n",
       "      <th>A</th>\n",
       "      <th>B</th>\n",
       "    </tr>\n",
       "  </thead>\n",
       "  <tbody>\n",
       "    <tr>\n",
       "      <th>3</th>\n",
       "      <td>-0.388529</td>\n",
       "      <td>-0.902426</td>\n",
       "    </tr>\n",
       "    <tr>\n",
       "      <th>4</th>\n",
       "      <td>-0.474955</td>\n",
       "      <td>1.451455</td>\n",
       "    </tr>\n",
       "  </tbody>\n",
       "</table>\n",
       "</div>"
      ],
      "text/plain": [
       "          A         B\n",
       "3 -0.388529 -0.902426\n",
       "4 -0.474955  1.451455"
      ]
     },
     "execution_count": 90,
     "metadata": {},
     "output_type": "execute_result"
    }
   ],
   "source": [
    "df.iloc[3:5,0:2]\n"
   ]
  },
  {
   "cell_type": "code",
   "execution_count": 91,
   "id": "a535cee1",
   "metadata": {},
   "outputs": [
    {
     "data": {
      "text/html": [
       "<div>\n",
       "<style scoped>\n",
       "    .dataframe tbody tr th:only-of-type {\n",
       "        vertical-align: middle;\n",
       "    }\n",
       "\n",
       "    .dataframe tbody tr th {\n",
       "        vertical-align: top;\n",
       "    }\n",
       "\n",
       "    .dataframe thead th {\n",
       "        text-align: right;\n",
       "    }\n",
       "</style>\n",
       "<table border=\"1\" class=\"dataframe\">\n",
       "  <thead>\n",
       "    <tr style=\"text-align: right;\">\n",
       "      <th></th>\n",
       "      <th>B</th>\n",
       "      <th>C</th>\n",
       "    </tr>\n",
       "  </thead>\n",
       "  <tbody>\n",
       "    <tr>\n",
       "      <th>0</th>\n",
       "      <td>1.074237</td>\n",
       "      <td>-1.040507</td>\n",
       "    </tr>\n",
       "    <tr>\n",
       "      <th>1</th>\n",
       "      <td>0.969140</td>\n",
       "      <td>-0.251690</td>\n",
       "    </tr>\n",
       "    <tr>\n",
       "      <th>2</th>\n",
       "      <td>0.079010</td>\n",
       "      <td>2.087476</td>\n",
       "    </tr>\n",
       "    <tr>\n",
       "      <th>3</th>\n",
       "      <td>-0.902426</td>\n",
       "      <td>0.054767</td>\n",
       "    </tr>\n",
       "    <tr>\n",
       "      <th>4</th>\n",
       "      <td>1.451455</td>\n",
       "      <td>-0.891484</td>\n",
       "    </tr>\n",
       "    <tr>\n",
       "      <th>5</th>\n",
       "      <td>0.666356</td>\n",
       "      <td>2.023140</td>\n",
       "    </tr>\n",
       "    <tr>\n",
       "      <th>6</th>\n",
       "      <td>-0.636641</td>\n",
       "      <td>-0.987186</td>\n",
       "    </tr>\n",
       "    <tr>\n",
       "      <th>7</th>\n",
       "      <td>-0.920643</td>\n",
       "      <td>2.650181</td>\n",
       "    </tr>\n",
       "    <tr>\n",
       "      <th>8</th>\n",
       "      <td>0.524654</td>\n",
       "      <td>-1.410495</td>\n",
       "    </tr>\n",
       "    <tr>\n",
       "      <th>9</th>\n",
       "      <td>-1.044437</td>\n",
       "      <td>-1.845197</td>\n",
       "    </tr>\n",
       "  </tbody>\n",
       "</table>\n",
       "</div>"
      ],
      "text/plain": [
       "          B         C\n",
       "0  1.074237 -1.040507\n",
       "1  0.969140 -0.251690\n",
       "2  0.079010  2.087476\n",
       "3 -0.902426  0.054767\n",
       "4  1.451455 -0.891484\n",
       "5  0.666356  2.023140\n",
       "6 -0.636641 -0.987186\n",
       "7 -0.920643  2.650181\n",
       "8  0.524654 -1.410495\n",
       "9 -1.044437 -1.845197"
      ]
     },
     "execution_count": 91,
     "metadata": {},
     "output_type": "execute_result"
    }
   ],
   "source": [
    "df.iloc[:,1:3]\n"
   ]
  },
  {
   "cell_type": "code",
   "execution_count": 92,
   "id": "2f384105",
   "metadata": {},
   "outputs": [
    {
     "data": {
      "text/html": [
       "<div>\n",
       "<style scoped>\n",
       "    .dataframe tbody tr th:only-of-type {\n",
       "        vertical-align: middle;\n",
       "    }\n",
       "\n",
       "    .dataframe tbody tr th {\n",
       "        vertical-align: top;\n",
       "    }\n",
       "\n",
       "    .dataframe thead th {\n",
       "        text-align: right;\n",
       "    }\n",
       "</style>\n",
       "<table border=\"1\" class=\"dataframe\">\n",
       "  <thead>\n",
       "    <tr style=\"text-align: right;\">\n",
       "      <th></th>\n",
       "      <th>A</th>\n",
       "      <th>B</th>\n",
       "      <th>C</th>\n",
       "      <th>D</th>\n",
       "    </tr>\n",
       "  </thead>\n",
       "  <tbody>\n",
       "    <tr>\n",
       "      <th>0</th>\n",
       "      <td>0.889330</td>\n",
       "      <td>1.074237</td>\n",
       "      <td>-1.040507</td>\n",
       "      <td>0.242580</td>\n",
       "    </tr>\n",
       "    <tr>\n",
       "      <th>1</th>\n",
       "      <td>0.078732</td>\n",
       "      <td>0.969140</td>\n",
       "      <td>-0.251690</td>\n",
       "      <td>-1.334992</td>\n",
       "    </tr>\n",
       "    <tr>\n",
       "      <th>5</th>\n",
       "      <td>0.468789</td>\n",
       "      <td>0.666356</td>\n",
       "      <td>2.023140</td>\n",
       "      <td>-0.060712</td>\n",
       "    </tr>\n",
       "    <tr>\n",
       "      <th>8</th>\n",
       "      <td>0.208585</td>\n",
       "      <td>0.524654</td>\n",
       "      <td>-1.410495</td>\n",
       "      <td>-0.438284</td>\n",
       "    </tr>\n",
       "    <tr>\n",
       "      <th>9</th>\n",
       "      <td>0.326523</td>\n",
       "      <td>-1.044437</td>\n",
       "      <td>-1.845197</td>\n",
       "      <td>-0.483452</td>\n",
       "    </tr>\n",
       "  </tbody>\n",
       "</table>\n",
       "</div>"
      ],
      "text/plain": [
       "          A         B         C         D\n",
       "0  0.889330  1.074237 -1.040507  0.242580\n",
       "1  0.078732  0.969140 -0.251690 -1.334992\n",
       "5  0.468789  0.666356  2.023140 -0.060712\n",
       "8  0.208585  0.524654 -1.410495 -0.438284\n",
       "9  0.326523 -1.044437 -1.845197 -0.483452"
      ]
     },
     "execution_count": 92,
     "metadata": {},
     "output_type": "execute_result"
    }
   ],
   "source": [
    "df[df.A > 0]\n"
   ]
  },
  {
   "cell_type": "code",
   "execution_count": 93,
   "id": "24ac0b03",
   "metadata": {},
   "outputs": [
    {
     "data": {
      "text/html": [
       "<div>\n",
       "<style scoped>\n",
       "    .dataframe tbody tr th:only-of-type {\n",
       "        vertical-align: middle;\n",
       "    }\n",
       "\n",
       "    .dataframe tbody tr th {\n",
       "        vertical-align: top;\n",
       "    }\n",
       "\n",
       "    .dataframe thead th {\n",
       "        text-align: right;\n",
       "    }\n",
       "</style>\n",
       "<table border=\"1\" class=\"dataframe\">\n",
       "  <thead>\n",
       "    <tr style=\"text-align: right;\">\n",
       "      <th></th>\n",
       "      <th>A</th>\n",
       "      <th>B</th>\n",
       "      <th>C</th>\n",
       "      <th>D</th>\n",
       "    </tr>\n",
       "  </thead>\n",
       "  <tbody>\n",
       "    <tr>\n",
       "      <th>0</th>\n",
       "      <td>0.889330</td>\n",
       "      <td>1.074237</td>\n",
       "      <td>NaN</td>\n",
       "      <td>0.242580</td>\n",
       "    </tr>\n",
       "    <tr>\n",
       "      <th>1</th>\n",
       "      <td>0.078732</td>\n",
       "      <td>0.969140</td>\n",
       "      <td>NaN</td>\n",
       "      <td>NaN</td>\n",
       "    </tr>\n",
       "    <tr>\n",
       "      <th>2</th>\n",
       "      <td>NaN</td>\n",
       "      <td>0.079010</td>\n",
       "      <td>2.087476</td>\n",
       "      <td>NaN</td>\n",
       "    </tr>\n",
       "    <tr>\n",
       "      <th>3</th>\n",
       "      <td>NaN</td>\n",
       "      <td>NaN</td>\n",
       "      <td>0.054767</td>\n",
       "      <td>1.208053</td>\n",
       "    </tr>\n",
       "    <tr>\n",
       "      <th>4</th>\n",
       "      <td>NaN</td>\n",
       "      <td>1.451455</td>\n",
       "      <td>NaN</td>\n",
       "      <td>NaN</td>\n",
       "    </tr>\n",
       "    <tr>\n",
       "      <th>5</th>\n",
       "      <td>0.468789</td>\n",
       "      <td>0.666356</td>\n",
       "      <td>2.023140</td>\n",
       "      <td>NaN</td>\n",
       "    </tr>\n",
       "    <tr>\n",
       "      <th>6</th>\n",
       "      <td>NaN</td>\n",
       "      <td>NaN</td>\n",
       "      <td>NaN</td>\n",
       "      <td>1.374584</td>\n",
       "    </tr>\n",
       "    <tr>\n",
       "      <th>7</th>\n",
       "      <td>NaN</td>\n",
       "      <td>NaN</td>\n",
       "      <td>2.650181</td>\n",
       "      <td>NaN</td>\n",
       "    </tr>\n",
       "    <tr>\n",
       "      <th>8</th>\n",
       "      <td>0.208585</td>\n",
       "      <td>0.524654</td>\n",
       "      <td>NaN</td>\n",
       "      <td>NaN</td>\n",
       "    </tr>\n",
       "    <tr>\n",
       "      <th>9</th>\n",
       "      <td>0.326523</td>\n",
       "      <td>NaN</td>\n",
       "      <td>NaN</td>\n",
       "      <td>NaN</td>\n",
       "    </tr>\n",
       "  </tbody>\n",
       "</table>\n",
       "</div>"
      ],
      "text/plain": [
       "          A         B         C         D\n",
       "0  0.889330  1.074237       NaN  0.242580\n",
       "1  0.078732  0.969140       NaN       NaN\n",
       "2       NaN  0.079010  2.087476       NaN\n",
       "3       NaN       NaN  0.054767  1.208053\n",
       "4       NaN  1.451455       NaN       NaN\n",
       "5  0.468789  0.666356  2.023140       NaN\n",
       "6       NaN       NaN       NaN  1.374584\n",
       "7       NaN       NaN  2.650181       NaN\n",
       "8  0.208585  0.524654       NaN       NaN\n",
       "9  0.326523       NaN       NaN       NaN"
      ]
     },
     "execution_count": 93,
     "metadata": {},
     "output_type": "execute_result"
    }
   ],
   "source": [
    "df[df > 0]"
   ]
  },
  {
   "cell_type": "code",
   "execution_count": null,
   "id": "9b489e60",
   "metadata": {},
   "outputs": [],
   "source": []
  }
 ],
 "metadata": {
  "kernelspec": {
   "display_name": "Python 3 (ipykernel)",
   "language": "python",
   "name": "python3"
  },
  "language_info": {
   "codemirror_mode": {
    "name": "ipython",
    "version": 3
   },
   "file_extension": ".py",
   "mimetype": "text/x-python",
   "name": "python",
   "nbconvert_exporter": "python",
   "pygments_lexer": "ipython3",
   "version": "3.9.12"
  }
 },
 "nbformat": 4,
 "nbformat_minor": 5
}
